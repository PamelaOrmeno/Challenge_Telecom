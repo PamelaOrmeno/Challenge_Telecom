{
  "nbformat": 4,
  "nbformat_minor": 0,
  "metadata": {
    "colab": {
      "provenance": [],
      "collapsed_sections": [
        "aG05YLQELeyn"
      ],
      "toc_visible": true
    },
    "kernelspec": {
      "name": "python3",
      "display_name": "Python 3"
    },
    "language_info": {
      "name": "python"
    }
  },
  "cells": [
    {
      "cell_type": "markdown",
      "source": [
        "# <strong><font color=\"3f51b5\">📌 Extracción</font></strong>"
      ],
      "metadata": {
        "id": "4foVEKhrlqcH"
      }
    },
    {
      "cell_type": "markdown",
      "source": [
        "## <strong><font color=\"7b83eb\">Importación de librerías</font></strong>"
      ],
      "metadata": {
        "id": "QYbSTIAr9fHG"
      }
    },
    {
      "cell_type": "code",
      "source": [
        "import pandas as pd\n",
        "import numpy as np\n",
        "import json\n",
        "import ast\n",
        "import warnings\n",
        "import matplotlib.pyplot as plt\n",
        "import seaborn as sns\n",
        "import math\n",
        "import os\n",
        "\n",
        "from pandas import json_normalize\n",
        "from IPython.display import display, HTML\n",
        "\n",
        "warnings.filterwarnings('ignore')"
      ],
      "metadata": {
        "id": "vxs4x7OAA8E4"
      },
      "execution_count": 1,
      "outputs": []
    },
    {
      "cell_type": "markdown",
      "source": [
        "## <strong><font color=\"7b83eb\">Carga de datos desde el archivo JSON</font></strong>"
      ],
      "metadata": {
        "id": "xE9szktD9Yqz"
      }
    },
    {
      "cell_type": "code",
      "source": [
        "url_data = 'https://raw.githubusercontent.com/PamelaOrmeno/Challenge_Telecom/main/Data/TelecomX_Data.json'\n",
        "df = pd.read_json(url_data)"
      ],
      "metadata": {
        "id": "kvrmB1qQ9bUJ"
      },
      "execution_count": 2,
      "outputs": []
    },
    {
      "cell_type": "markdown",
      "source": [
        "## <strong><font color=\"7b83eb\">Diccionario de datos</font></strong>"
      ],
      "metadata": {
        "id": "0ImKgO1vEDyT"
      }
    },
    {
      "cell_type": "markdown",
      "source": [
        "`Customer`\n",
        ">- `customerID`: número de identificación único de cada cliente\n",
        "- `Churn`: si el cliente dejó o no la empresa `(Yes / No)`\n",
        "- `gender`: género (masculino `(Male)`y femenino `(Female)`)\n",
        "- `SeniorCitizen`: información sobre si un cliente tiene o no una edad igual o mayor a 65 años `(0 / 1)`\n",
        "- `Partner`: si el cliente tiene o no una pareja `(Yes / No)`\n",
        "- `Dependents`: si el cliente tiene o no dependientes (Yes / No)\n",
        "- `tenure`: meses de contrato del cliente\n",
        "\n",
        "`Phone`\n",
        ">- `PhoneService`: suscripción al servicio telefónico `(Yes / No)`\n",
        "- `MultipleLines`: suscripción a más de una línea telefónica `(Yes / No/ No Phone service)`\n",
        "\n",
        "`Internet`\n",
        ">- `InternetService`: suscripción a un proveedor de internet `(DSL / Fiber optic / No)`\n",
        "- `OnlineSecurity`: suscripción adicional de seguridad en línea `(Yes / No / No internet service)`\n",
        "- `OnlineBackup`: suscripción adicional de respaldo en línea `(Yes / No / No internet service)`\n",
        "- `DeviceProtection`: suscripción adicional de protección del dispositivo `(Yes / No / No internet service)`\n",
        "- `TechSupport`: suscripción adicional de soporte técnico, menor tiempo de espera  `(Yes / No / No internet service)`\n",
        "- `StreamingTV`: suscripción de televisión por cable  `(Yes / No / No internet service)`\n",
        "- `StreamingMovies`: suscripción de streaming de películas  `(Yes / No / No internet service)`\n",
        "\n",
        "`Account`\n",
        ">- `Contract`: tipo de contrato  `(Month-to-month / One year / Two year)`\n",
        "- `PaperlessBilling`: si el cliente prefiere recibir la factura en línea `(Yes / No)`\n",
        "- `PaymentMethod`: forma de pago (`(Banck transfer(automatic) / Credit card (automatic) / Electronic check / Mailed Check)`\n",
        "- `Charges.Monthly`: total de todos los servicios del cliente por mes\n",
        "- `Charges.Total`: total gastado por el cliente"
      ],
      "metadata": {
        "id": "Q9Zt05ycEI08"
      }
    },
    {
      "cell_type": "markdown",
      "source": [
        "## <strong><font color=\"7b83eb\">Exploración inicial + validación del esquema</font></strong>"
      ],
      "metadata": {
        "id": "Uv7hIk2qCgEu"
      }
    },
    {
      "cell_type": "markdown",
      "source": [
        "### <strong><font color=\"2e2e2e\">Info DataFrame</font></strong>"
      ],
      "metadata": {
        "id": "blskVxBbQ9T6"
      }
    },
    {
      "cell_type": "code",
      "source": [
        "df.info()"
      ],
      "metadata": {
        "colab": {
          "base_uri": "https://localhost:8080/"
        },
        "id": "fiybX3AbCovl",
        "outputId": "d8a7b33b-65a9-4014-e52f-1e347b96dd20"
      },
      "execution_count": 3,
      "outputs": [
        {
          "output_type": "stream",
          "name": "stdout",
          "text": [
            "<class 'pandas.core.frame.DataFrame'>\n",
            "RangeIndex: 7267 entries, 0 to 7266\n",
            "Data columns (total 6 columns):\n",
            " #   Column      Non-Null Count  Dtype \n",
            "---  ------      --------------  ----- \n",
            " 0   customerID  7267 non-null   object\n",
            " 1   Churn       7267 non-null   object\n",
            " 2   customer    7267 non-null   object\n",
            " 3   phone       7267 non-null   object\n",
            " 4   internet    7267 non-null   object\n",
            " 5   account     7267 non-null   object\n",
            "dtypes: object(6)\n",
            "memory usage: 340.8+ KB\n"
          ]
        }
      ]
    },
    {
      "cell_type": "markdown",
      "source": [
        "### <strong><font color=\"2e2e2e\">Dtypes DataFrame</font></strong>"
      ],
      "metadata": {
        "id": "tq8wCz92RIdS"
      }
    },
    {
      "cell_type": "code",
      "source": [
        "df.dtypes"
      ],
      "metadata": {
        "colab": {
          "base_uri": "https://localhost:8080/",
          "height": 272
        },
        "id": "IhUVq1E_Qk2F",
        "outputId": "951fefc6-ca57-44f2-ff5c-64ee23be49a6"
      },
      "execution_count": 4,
      "outputs": [
        {
          "output_type": "execute_result",
          "data": {
            "text/plain": [
              "customerID    object\n",
              "Churn         object\n",
              "customer      object\n",
              "phone         object\n",
              "internet      object\n",
              "account       object\n",
              "dtype: object"
            ],
            "text/html": [
              "<div>\n",
              "<style scoped>\n",
              "    .dataframe tbody tr th:only-of-type {\n",
              "        vertical-align: middle;\n",
              "    }\n",
              "\n",
              "    .dataframe tbody tr th {\n",
              "        vertical-align: top;\n",
              "    }\n",
              "\n",
              "    .dataframe thead th {\n",
              "        text-align: right;\n",
              "    }\n",
              "</style>\n",
              "<table border=\"1\" class=\"dataframe\">\n",
              "  <thead>\n",
              "    <tr style=\"text-align: right;\">\n",
              "      <th></th>\n",
              "      <th>0</th>\n",
              "    </tr>\n",
              "  </thead>\n",
              "  <tbody>\n",
              "    <tr>\n",
              "      <th>customerID</th>\n",
              "      <td>object</td>\n",
              "    </tr>\n",
              "    <tr>\n",
              "      <th>Churn</th>\n",
              "      <td>object</td>\n",
              "    </tr>\n",
              "    <tr>\n",
              "      <th>customer</th>\n",
              "      <td>object</td>\n",
              "    </tr>\n",
              "    <tr>\n",
              "      <th>phone</th>\n",
              "      <td>object</td>\n",
              "    </tr>\n",
              "    <tr>\n",
              "      <th>internet</th>\n",
              "      <td>object</td>\n",
              "    </tr>\n",
              "    <tr>\n",
              "      <th>account</th>\n",
              "      <td>object</td>\n",
              "    </tr>\n",
              "  </tbody>\n",
              "</table>\n",
              "</div><br><label><b>dtype:</b> object</label>"
            ]
          },
          "metadata": {},
          "execution_count": 4
        }
      ]
    },
    {
      "cell_type": "markdown",
      "source": [
        "### <strong><font color=\"2e2e2e\">Head DataFrame</font></strong>"
      ],
      "metadata": {
        "id": "tE2-EmrzRQdu"
      }
    },
    {
      "cell_type": "code",
      "source": [
        "df.head()"
      ],
      "metadata": {
        "colab": {
          "base_uri": "https://localhost:8080/",
          "height": 206
        },
        "id": "LpPaBsnfDQ_D",
        "outputId": "f058c047-b670-4c7b-9143-95b5004c1a08"
      },
      "execution_count": 5,
      "outputs": [
        {
          "output_type": "execute_result",
          "data": {
            "text/plain": [
              "   customerID Churn                                           customer  \\\n",
              "0  0002-ORFBO    No  {'gender': 'Female', 'SeniorCitizen': 0, 'Part...   \n",
              "1  0003-MKNFE    No  {'gender': 'Male', 'SeniorCitizen': 0, 'Partne...   \n",
              "2  0004-TLHLJ   Yes  {'gender': 'Male', 'SeniorCitizen': 0, 'Partne...   \n",
              "3  0011-IGKFF   Yes  {'gender': 'Male', 'SeniorCitizen': 1, 'Partne...   \n",
              "4  0013-EXCHZ   Yes  {'gender': 'Female', 'SeniorCitizen': 1, 'Part...   \n",
              "\n",
              "                                             phone  \\\n",
              "0   {'PhoneService': 'Yes', 'MultipleLines': 'No'}   \n",
              "1  {'PhoneService': 'Yes', 'MultipleLines': 'Yes'}   \n",
              "2   {'PhoneService': 'Yes', 'MultipleLines': 'No'}   \n",
              "3   {'PhoneService': 'Yes', 'MultipleLines': 'No'}   \n",
              "4   {'PhoneService': 'Yes', 'MultipleLines': 'No'}   \n",
              "\n",
              "                                            internet  \\\n",
              "0  {'InternetService': 'DSL', 'OnlineSecurity': '...   \n",
              "1  {'InternetService': 'DSL', 'OnlineSecurity': '...   \n",
              "2  {'InternetService': 'Fiber optic', 'OnlineSecu...   \n",
              "3  {'InternetService': 'Fiber optic', 'OnlineSecu...   \n",
              "4  {'InternetService': 'Fiber optic', 'OnlineSecu...   \n",
              "\n",
              "                                             account  \n",
              "0  {'Contract': 'One year', 'PaperlessBilling': '...  \n",
              "1  {'Contract': 'Month-to-month', 'PaperlessBilli...  \n",
              "2  {'Contract': 'Month-to-month', 'PaperlessBilli...  \n",
              "3  {'Contract': 'Month-to-month', 'PaperlessBilli...  \n",
              "4  {'Contract': 'Month-to-month', 'PaperlessBilli...  "
            ],
            "text/html": [
              "\n",
              "  <div id=\"df-cf44eee7-a625-4920-9d19-dd9148aaaec5\" class=\"colab-df-container\">\n",
              "    <div>\n",
              "<style scoped>\n",
              "    .dataframe tbody tr th:only-of-type {\n",
              "        vertical-align: middle;\n",
              "    }\n",
              "\n",
              "    .dataframe tbody tr th {\n",
              "        vertical-align: top;\n",
              "    }\n",
              "\n",
              "    .dataframe thead th {\n",
              "        text-align: right;\n",
              "    }\n",
              "</style>\n",
              "<table border=\"1\" class=\"dataframe\">\n",
              "  <thead>\n",
              "    <tr style=\"text-align: right;\">\n",
              "      <th></th>\n",
              "      <th>customerID</th>\n",
              "      <th>Churn</th>\n",
              "      <th>customer</th>\n",
              "      <th>phone</th>\n",
              "      <th>internet</th>\n",
              "      <th>account</th>\n",
              "    </tr>\n",
              "  </thead>\n",
              "  <tbody>\n",
              "    <tr>\n",
              "      <th>0</th>\n",
              "      <td>0002-ORFBO</td>\n",
              "      <td>No</td>\n",
              "      <td>{'gender': 'Female', 'SeniorCitizen': 0, 'Part...</td>\n",
              "      <td>{'PhoneService': 'Yes', 'MultipleLines': 'No'}</td>\n",
              "      <td>{'InternetService': 'DSL', 'OnlineSecurity': '...</td>\n",
              "      <td>{'Contract': 'One year', 'PaperlessBilling': '...</td>\n",
              "    </tr>\n",
              "    <tr>\n",
              "      <th>1</th>\n",
              "      <td>0003-MKNFE</td>\n",
              "      <td>No</td>\n",
              "      <td>{'gender': 'Male', 'SeniorCitizen': 0, 'Partne...</td>\n",
              "      <td>{'PhoneService': 'Yes', 'MultipleLines': 'Yes'}</td>\n",
              "      <td>{'InternetService': 'DSL', 'OnlineSecurity': '...</td>\n",
              "      <td>{'Contract': 'Month-to-month', 'PaperlessBilli...</td>\n",
              "    </tr>\n",
              "    <tr>\n",
              "      <th>2</th>\n",
              "      <td>0004-TLHLJ</td>\n",
              "      <td>Yes</td>\n",
              "      <td>{'gender': 'Male', 'SeniorCitizen': 0, 'Partne...</td>\n",
              "      <td>{'PhoneService': 'Yes', 'MultipleLines': 'No'}</td>\n",
              "      <td>{'InternetService': 'Fiber optic', 'OnlineSecu...</td>\n",
              "      <td>{'Contract': 'Month-to-month', 'PaperlessBilli...</td>\n",
              "    </tr>\n",
              "    <tr>\n",
              "      <th>3</th>\n",
              "      <td>0011-IGKFF</td>\n",
              "      <td>Yes</td>\n",
              "      <td>{'gender': 'Male', 'SeniorCitizen': 1, 'Partne...</td>\n",
              "      <td>{'PhoneService': 'Yes', 'MultipleLines': 'No'}</td>\n",
              "      <td>{'InternetService': 'Fiber optic', 'OnlineSecu...</td>\n",
              "      <td>{'Contract': 'Month-to-month', 'PaperlessBilli...</td>\n",
              "    </tr>\n",
              "    <tr>\n",
              "      <th>4</th>\n",
              "      <td>0013-EXCHZ</td>\n",
              "      <td>Yes</td>\n",
              "      <td>{'gender': 'Female', 'SeniorCitizen': 1, 'Part...</td>\n",
              "      <td>{'PhoneService': 'Yes', 'MultipleLines': 'No'}</td>\n",
              "      <td>{'InternetService': 'Fiber optic', 'OnlineSecu...</td>\n",
              "      <td>{'Contract': 'Month-to-month', 'PaperlessBilli...</td>\n",
              "    </tr>\n",
              "  </tbody>\n",
              "</table>\n",
              "</div>\n",
              "    <div class=\"colab-df-buttons\">\n",
              "\n",
              "  <div class=\"colab-df-container\">\n",
              "    <button class=\"colab-df-convert\" onclick=\"convertToInteractive('df-cf44eee7-a625-4920-9d19-dd9148aaaec5')\"\n",
              "            title=\"Convert this dataframe to an interactive table.\"\n",
              "            style=\"display:none;\">\n",
              "\n",
              "  <svg xmlns=\"http://www.w3.org/2000/svg\" height=\"24px\" viewBox=\"0 -960 960 960\">\n",
              "    <path d=\"M120-120v-720h720v720H120Zm60-500h600v-160H180v160Zm220 220h160v-160H400v160Zm0 220h160v-160H400v160ZM180-400h160v-160H180v160Zm440 0h160v-160H620v160ZM180-180h160v-160H180v160Zm440 0h160v-160H620v160Z\"/>\n",
              "  </svg>\n",
              "    </button>\n",
              "\n",
              "  <style>\n",
              "    .colab-df-container {\n",
              "      display:flex;\n",
              "      gap: 12px;\n",
              "    }\n",
              "\n",
              "    .colab-df-convert {\n",
              "      background-color: #E8F0FE;\n",
              "      border: none;\n",
              "      border-radius: 50%;\n",
              "      cursor: pointer;\n",
              "      display: none;\n",
              "      fill: #1967D2;\n",
              "      height: 32px;\n",
              "      padding: 0 0 0 0;\n",
              "      width: 32px;\n",
              "    }\n",
              "\n",
              "    .colab-df-convert:hover {\n",
              "      background-color: #E2EBFA;\n",
              "      box-shadow: 0px 1px 2px rgba(60, 64, 67, 0.3), 0px 1px 3px 1px rgba(60, 64, 67, 0.15);\n",
              "      fill: #174EA6;\n",
              "    }\n",
              "\n",
              "    .colab-df-buttons div {\n",
              "      margin-bottom: 4px;\n",
              "    }\n",
              "\n",
              "    [theme=dark] .colab-df-convert {\n",
              "      background-color: #3B4455;\n",
              "      fill: #D2E3FC;\n",
              "    }\n",
              "\n",
              "    [theme=dark] .colab-df-convert:hover {\n",
              "      background-color: #434B5C;\n",
              "      box-shadow: 0px 1px 3px 1px rgba(0, 0, 0, 0.15);\n",
              "      filter: drop-shadow(0px 1px 2px rgba(0, 0, 0, 0.3));\n",
              "      fill: #FFFFFF;\n",
              "    }\n",
              "  </style>\n",
              "\n",
              "    <script>\n",
              "      const buttonEl =\n",
              "        document.querySelector('#df-cf44eee7-a625-4920-9d19-dd9148aaaec5 button.colab-df-convert');\n",
              "      buttonEl.style.display =\n",
              "        google.colab.kernel.accessAllowed ? 'block' : 'none';\n",
              "\n",
              "      async function convertToInteractive(key) {\n",
              "        const element = document.querySelector('#df-cf44eee7-a625-4920-9d19-dd9148aaaec5');\n",
              "        const dataTable =\n",
              "          await google.colab.kernel.invokeFunction('convertToInteractive',\n",
              "                                                    [key], {});\n",
              "        if (!dataTable) return;\n",
              "\n",
              "        const docLinkHtml = 'Like what you see? Visit the ' +\n",
              "          '<a target=\"_blank\" href=https://colab.research.google.com/notebooks/data_table.ipynb>data table notebook</a>'\n",
              "          + ' to learn more about interactive tables.';\n",
              "        element.innerHTML = '';\n",
              "        dataTable['output_type'] = 'display_data';\n",
              "        await google.colab.output.renderOutput(dataTable, element);\n",
              "        const docLink = document.createElement('div');\n",
              "        docLink.innerHTML = docLinkHtml;\n",
              "        element.appendChild(docLink);\n",
              "      }\n",
              "    </script>\n",
              "  </div>\n",
              "\n",
              "\n",
              "    <div id=\"df-3cba0a93-fc9c-4144-9bd5-a77ad380b22a\">\n",
              "      <button class=\"colab-df-quickchart\" onclick=\"quickchart('df-3cba0a93-fc9c-4144-9bd5-a77ad380b22a')\"\n",
              "                title=\"Suggest charts\"\n",
              "                style=\"display:none;\">\n",
              "\n",
              "<svg xmlns=\"http://www.w3.org/2000/svg\" height=\"24px\"viewBox=\"0 0 24 24\"\n",
              "     width=\"24px\">\n",
              "    <g>\n",
              "        <path d=\"M19 3H5c-1.1 0-2 .9-2 2v14c0 1.1.9 2 2 2h14c1.1 0 2-.9 2-2V5c0-1.1-.9-2-2-2zM9 17H7v-7h2v7zm4 0h-2V7h2v10zm4 0h-2v-4h2v4z\"/>\n",
              "    </g>\n",
              "</svg>\n",
              "      </button>\n",
              "\n",
              "<style>\n",
              "  .colab-df-quickchart {\n",
              "      --bg-color: #E8F0FE;\n",
              "      --fill-color: #1967D2;\n",
              "      --hover-bg-color: #E2EBFA;\n",
              "      --hover-fill-color: #174EA6;\n",
              "      --disabled-fill-color: #AAA;\n",
              "      --disabled-bg-color: #DDD;\n",
              "  }\n",
              "\n",
              "  [theme=dark] .colab-df-quickchart {\n",
              "      --bg-color: #3B4455;\n",
              "      --fill-color: #D2E3FC;\n",
              "      --hover-bg-color: #434B5C;\n",
              "      --hover-fill-color: #FFFFFF;\n",
              "      --disabled-bg-color: #3B4455;\n",
              "      --disabled-fill-color: #666;\n",
              "  }\n",
              "\n",
              "  .colab-df-quickchart {\n",
              "    background-color: var(--bg-color);\n",
              "    border: none;\n",
              "    border-radius: 50%;\n",
              "    cursor: pointer;\n",
              "    display: none;\n",
              "    fill: var(--fill-color);\n",
              "    height: 32px;\n",
              "    padding: 0;\n",
              "    width: 32px;\n",
              "  }\n",
              "\n",
              "  .colab-df-quickchart:hover {\n",
              "    background-color: var(--hover-bg-color);\n",
              "    box-shadow: 0 1px 2px rgba(60, 64, 67, 0.3), 0 1px 3px 1px rgba(60, 64, 67, 0.15);\n",
              "    fill: var(--button-hover-fill-color);\n",
              "  }\n",
              "\n",
              "  .colab-df-quickchart-complete:disabled,\n",
              "  .colab-df-quickchart-complete:disabled:hover {\n",
              "    background-color: var(--disabled-bg-color);\n",
              "    fill: var(--disabled-fill-color);\n",
              "    box-shadow: none;\n",
              "  }\n",
              "\n",
              "  .colab-df-spinner {\n",
              "    border: 2px solid var(--fill-color);\n",
              "    border-color: transparent;\n",
              "    border-bottom-color: var(--fill-color);\n",
              "    animation:\n",
              "      spin 1s steps(1) infinite;\n",
              "  }\n",
              "\n",
              "  @keyframes spin {\n",
              "    0% {\n",
              "      border-color: transparent;\n",
              "      border-bottom-color: var(--fill-color);\n",
              "      border-left-color: var(--fill-color);\n",
              "    }\n",
              "    20% {\n",
              "      border-color: transparent;\n",
              "      border-left-color: var(--fill-color);\n",
              "      border-top-color: var(--fill-color);\n",
              "    }\n",
              "    30% {\n",
              "      border-color: transparent;\n",
              "      border-left-color: var(--fill-color);\n",
              "      border-top-color: var(--fill-color);\n",
              "      border-right-color: var(--fill-color);\n",
              "    }\n",
              "    40% {\n",
              "      border-color: transparent;\n",
              "      border-right-color: var(--fill-color);\n",
              "      border-top-color: var(--fill-color);\n",
              "    }\n",
              "    60% {\n",
              "      border-color: transparent;\n",
              "      border-right-color: var(--fill-color);\n",
              "    }\n",
              "    80% {\n",
              "      border-color: transparent;\n",
              "      border-right-color: var(--fill-color);\n",
              "      border-bottom-color: var(--fill-color);\n",
              "    }\n",
              "    90% {\n",
              "      border-color: transparent;\n",
              "      border-bottom-color: var(--fill-color);\n",
              "    }\n",
              "  }\n",
              "</style>\n",
              "\n",
              "      <script>\n",
              "        async function quickchart(key) {\n",
              "          const quickchartButtonEl =\n",
              "            document.querySelector('#' + key + ' button');\n",
              "          quickchartButtonEl.disabled = true;  // To prevent multiple clicks.\n",
              "          quickchartButtonEl.classList.add('colab-df-spinner');\n",
              "          try {\n",
              "            const charts = await google.colab.kernel.invokeFunction(\n",
              "                'suggestCharts', [key], {});\n",
              "          } catch (error) {\n",
              "            console.error('Error during call to suggestCharts:', error);\n",
              "          }\n",
              "          quickchartButtonEl.classList.remove('colab-df-spinner');\n",
              "          quickchartButtonEl.classList.add('colab-df-quickchart-complete');\n",
              "        }\n",
              "        (() => {\n",
              "          let quickchartButtonEl =\n",
              "            document.querySelector('#df-3cba0a93-fc9c-4144-9bd5-a77ad380b22a button');\n",
              "          quickchartButtonEl.style.display =\n",
              "            google.colab.kernel.accessAllowed ? 'block' : 'none';\n",
              "        })();\n",
              "      </script>\n",
              "    </div>\n",
              "\n",
              "    </div>\n",
              "  </div>\n"
            ],
            "application/vnd.google.colaboratory.intrinsic+json": {
              "type": "dataframe",
              "variable_name": "df",
              "summary": "{\n  \"name\": \"df\",\n  \"rows\": 7267,\n  \"fields\": [\n    {\n      \"column\": \"customerID\",\n      \"properties\": {\n        \"dtype\": \"string\",\n        \"num_unique_values\": 7267,\n        \"samples\": [\n          \"2038-OEQZH\",\n          \"6322-HRPFA\",\n          \"3969-JQABI\"\n        ],\n        \"semantic_type\": \"\",\n        \"description\": \"\"\n      }\n    },\n    {\n      \"column\": \"Churn\",\n      \"properties\": {\n        \"dtype\": \"category\",\n        \"num_unique_values\": 3,\n        \"samples\": [\n          \"No\",\n          \"Yes\",\n          \"\"\n        ],\n        \"semantic_type\": \"\",\n        \"description\": \"\"\n      }\n    },\n    {\n      \"column\": \"customer\",\n      \"properties\": {\n        \"dtype\": \"object\",\n        \"semantic_type\": \"\",\n        \"description\": \"\"\n      }\n    },\n    {\n      \"column\": \"phone\",\n      \"properties\": {\n        \"dtype\": \"object\",\n        \"semantic_type\": \"\",\n        \"description\": \"\"\n      }\n    },\n    {\n      \"column\": \"internet\",\n      \"properties\": {\n        \"dtype\": \"object\",\n        \"semantic_type\": \"\",\n        \"description\": \"\"\n      }\n    },\n    {\n      \"column\": \"account\",\n      \"properties\": {\n        \"dtype\": \"object\",\n        \"semantic_type\": \"\",\n        \"description\": \"\"\n      }\n    }\n  ]\n}"
            }
          },
          "metadata": {},
          "execution_count": 5
        }
      ]
    },
    {
      "cell_type": "markdown",
      "source": [
        "# <strong><font color=\"3f51b5\">📌 Transformación</font></strong>\n",
        "\n"
      ],
      "metadata": {
        "id": "1lSZP8zmmGZu"
      }
    },
    {
      "cell_type": "markdown",
      "source": [
        "### <strong><font color=\"2e2e2e\">Info DataFrame</font></strong>"
      ],
      "metadata": {
        "id": "dyt1vpnI2l2I"
      }
    },
    {
      "cell_type": "code",
      "source": [
        "df.info()"
      ],
      "metadata": {
        "colab": {
          "base_uri": "https://localhost:8080/"
        },
        "id": "-TtchSlRnWrI",
        "outputId": "285435c5-9624-49f2-d3c6-1cd828ec7947"
      },
      "execution_count": 25,
      "outputs": [
        {
          "output_type": "stream",
          "name": "stdout",
          "text": [
            "<class 'pandas.core.frame.DataFrame'>\n",
            "Index: 7256 entries, 0 to 7266\n",
            "Data columns (total 22 columns):\n",
            " #   Column            Non-Null Count  Dtype  \n",
            "---  ------            --------------  -----  \n",
            " 0   customerid        7256 non-null   object \n",
            " 1   churn             7256 non-null   int64  \n",
            " 2   gender            7256 non-null   object \n",
            " 3   seniorcitizen     7256 non-null   int64  \n",
            " 4   partner           7256 non-null   int64  \n",
            " 5   dependents        7256 non-null   int64  \n",
            " 6   tenure            7256 non-null   int64  \n",
            " 7   phoneservice      7256 non-null   int64  \n",
            " 8   multiplelines     7256 non-null   int64  \n",
            " 9   internetservice   7256 non-null   object \n",
            " 10  onlinesecurity    7256 non-null   int64  \n",
            " 11  onlinebackup      7256 non-null   int64  \n",
            " 12  deviceprotection  7256 non-null   int64  \n",
            " 13  techsupport       7256 non-null   int64  \n",
            " 14  streamingtv       7256 non-null   int64  \n",
            " 15  streamingmovies   7256 non-null   int64  \n",
            " 16  contract          7256 non-null   object \n",
            " 17  paperlessbilling  7256 non-null   int64  \n",
            " 18  paymentmethod     7256 non-null   object \n",
            " 19  charges.monthly   7256 non-null   float64\n",
            " 20  charges.total     7256 non-null   float64\n",
            " 21  cuentas_diarias   7256 non-null   float64\n",
            "dtypes: float64(3), int64(14), object(5)\n",
            "memory usage: 1.3+ MB\n"
          ]
        }
      ]
    },
    {
      "cell_type": "markdown",
      "source": [
        "### <strong><font color=\"2e2e2e\">Desanidar columnas</font></strong>"
      ],
      "metadata": {
        "id": "tUY39mUj2ysD"
      }
    },
    {
      "cell_type": "code",
      "source": [
        "if 'customer' in df.columns:\n",
        "    df_customer = pd.json_normalize(df['customer'])\n",
        "    df_phone = pd.json_normalize(df['phone'])\n",
        "    df_internet = pd.json_normalize(df['internet'])\n",
        "    df_account = pd.json_normalize(df['account'])\n",
        "\n",
        "    df_flat = pd.concat([\n",
        "        df[['customerID', 'Churn']],\n",
        "        df_customer,\n",
        "        df_phone,\n",
        "        df_internet,\n",
        "        df_account\n",
        "    ], axis=1)\n",
        "\n",
        "    df = df_flat.copy()\n",
        "    print(\"✅ Datos desanidados correctamente.\")\n",
        "else:\n",
        "    print(\"🔁 Los datos ya están desanidados. No se vuelve a ejecutar.\")"
      ],
      "metadata": {
        "colab": {
          "base_uri": "https://localhost:8080/"
        },
        "id": "bV5ssn1lm6By",
        "outputId": "1e667a69-d689-413d-99fb-e4355dca690c"
      },
      "execution_count": 7,
      "outputs": [
        {
          "output_type": "stream",
          "name": "stdout",
          "text": [
            "✅ Datos desanidados correctamente.\n"
          ]
        }
      ]
    },
    {
      "cell_type": "markdown",
      "source": [
        "### <strong><font color=\"2e2e2e\">Normalizar nombres de columnas (minúsculas)</font></strong>"
      ],
      "metadata": {
        "id": "8L6NEaSa28qi"
      }
    },
    {
      "cell_type": "code",
      "source": [
        "df.columns = df.columns.str.strip().str.lower()"
      ],
      "metadata": {
        "id": "QAWI3JuynB1y"
      },
      "execution_count": 8,
      "outputs": []
    },
    {
      "cell_type": "markdown",
      "source": [
        "### **Transformación de valores**"
      ],
      "metadata": {
        "id": "z5FJxBGFwNyb"
      }
    },
    {
      "cell_type": "markdown",
      "source": [
        "#### <strong><font color=\"2e2e2e\">Mapeo de valores para la columna 'gender'</font></strong>"
      ],
      "metadata": {
        "id": "nWPCJo9QnrAi"
      }
    },
    {
      "cell_type": "code",
      "source": [
        "df['gender'] = df['gender'].map({'Female': 'Femenino', 'Male': 'Masculino'})"
      ],
      "metadata": {
        "id": "KGvGRtiCnvKX"
      },
      "execution_count": 9,
      "outputs": []
    },
    {
      "cell_type": "markdown",
      "source": [
        "#### <strong><font color=\"2e2e2e\">Convertir columnas \"yes\"/\"no\" a 1 y 0 de forma segura</font></strong>"
      ],
      "metadata": {
        "id": "HxxoEKEC3E1h"
      }
    },
    {
      "cell_type": "code",
      "source": [
        "columnas_binarias = ['churn', # 0 - Customer\n",
        "                     'partner', #1 - Customer\n",
        "                     'dependents', #2 - Customer\n",
        "                     'phoneservice', #3 - Phone\n",
        "                     'multiplelines' , #4 - Phone\n",
        "                      'onlinesecurity' , #5 - Internet\n",
        "                     'onlinebackup', #6 - Internet\n",
        "                     'deviceprotection', #7 - Internet\n",
        "                      'techsupport', #8 - Internet\n",
        "                     'streamingtv' , #9 - Internet\n",
        "                     'streamingmovies' , #10 - Internet\n",
        "                      'paperlessbilling' #11 - Account\n",
        "                    ]\n",
        "\n",
        "for col in columnas_binarias:\n",
        "    if col in df.columns:\n",
        "      df[col] = df[col].astype(str).str.strip().str.lower().apply(lambda x: 1 if x == 'yes' else 0)\n",
        "      #df[col] = df[col].astype(str).str.strip().str.lower().replace({'yes': 1, 'no': 0})\n",
        "    else:\n",
        "        print(f\"⚠️ Columna no encontrada: {col}\")"
      ],
      "metadata": {
        "id": "01_q1sYanDYG"
      },
      "execution_count": 10,
      "outputs": []
    },
    {
      "cell_type": "markdown",
      "source": [
        "####**Mapeo de data**"
      ],
      "metadata": {
        "id": "aG05YLQELeyn"
      }
    },
    {
      "cell_type": "code",
      "source": [
        "df['contract'] = df['contract'].map({\n",
        "    'Month-to-month': 'Mes a Mes',\n",
        "    'Two year': 'Dos Años',\n",
        "    'One year': 'Un Año'\n",
        "})\n",
        "\n",
        "\n",
        "df['paymentmethod'] = df['paymentmethod'].map({\n",
        "    'Mailed check': 'Cheque enviado por correo',\n",
        "    'Electronic check': 'Cheque electrónico',\n",
        "    'Credit card (automatic)': 'Tarjeta de crédito',\n",
        "    'Bank transfer (automatic)': 'Transferencia bancaria'\n",
        "})\n",
        "\n",
        "df['internetservice'] = df['internetservice'].map({\n",
        "    'DSL': 'DSL',\n",
        "    'Fiber optic': 'Fibra Óptica',\n",
        "    'No': 'Ninguno'\n",
        "})"
      ],
      "metadata": {
        "id": "Db2MnEFGLmQL"
      },
      "execution_count": 11,
      "outputs": []
    },
    {
      "cell_type": "code",
      "source": [
        "df.head()"
      ],
      "metadata": {
        "colab": {
          "base_uri": "https://localhost:8080/",
          "height": 0
        },
        "id": "oGo27p3sJ0ij",
        "outputId": "851110a3-0ffb-47a2-cc00-ffeafc9e8c51"
      },
      "execution_count": 12,
      "outputs": [
        {
          "output_type": "execute_result",
          "data": {
            "text/plain": [
              "   customerid  churn     gender  seniorcitizen  partner  dependents  tenure  \\\n",
              "0  0002-ORFBO      0   Femenino              0        1           1       9   \n",
              "1  0003-MKNFE      0  Masculino              0        0           0       9   \n",
              "2  0004-TLHLJ      1  Masculino              0        0           0       4   \n",
              "3  0011-IGKFF      1  Masculino              1        1           0      13   \n",
              "4  0013-EXCHZ      1   Femenino              1        1           0       3   \n",
              "\n",
              "   phoneservice  multiplelines internetservice  ...  onlinebackup  \\\n",
              "0             1              0             DSL  ...             1   \n",
              "1             1              1             DSL  ...             0   \n",
              "2             1              0    Fibra Óptica  ...             0   \n",
              "3             1              0    Fibra Óptica  ...             1   \n",
              "4             1              0    Fibra Óptica  ...             0   \n",
              "\n",
              "   deviceprotection  techsupport  streamingtv  streamingmovies   contract  \\\n",
              "0                 0            1            1                0     Un Año   \n",
              "1                 0            0            0                1  Mes a Mes   \n",
              "2                 1            0            0                0  Mes a Mes   \n",
              "3                 1            0            1                1  Mes a Mes   \n",
              "4                 0            1            1                0  Mes a Mes   \n",
              "\n",
              "  paperlessbilling              paymentmethod charges.monthly  charges.total  \n",
              "0                1  Cheque enviado por correo            65.6          593.3  \n",
              "1                0  Cheque enviado por correo            59.9          542.4  \n",
              "2                1         Cheque electrónico            73.9         280.85  \n",
              "3                1         Cheque electrónico            98.0        1237.85  \n",
              "4                1  Cheque enviado por correo            83.9          267.4  \n",
              "\n",
              "[5 rows x 21 columns]"
            ],
            "text/html": [
              "\n",
              "  <div id=\"df-9f84dbab-2ad7-4ed1-8062-3287c333d0c6\" class=\"colab-df-container\">\n",
              "    <div>\n",
              "<style scoped>\n",
              "    .dataframe tbody tr th:only-of-type {\n",
              "        vertical-align: middle;\n",
              "    }\n",
              "\n",
              "    .dataframe tbody tr th {\n",
              "        vertical-align: top;\n",
              "    }\n",
              "\n",
              "    .dataframe thead th {\n",
              "        text-align: right;\n",
              "    }\n",
              "</style>\n",
              "<table border=\"1\" class=\"dataframe\">\n",
              "  <thead>\n",
              "    <tr style=\"text-align: right;\">\n",
              "      <th></th>\n",
              "      <th>customerid</th>\n",
              "      <th>churn</th>\n",
              "      <th>gender</th>\n",
              "      <th>seniorcitizen</th>\n",
              "      <th>partner</th>\n",
              "      <th>dependents</th>\n",
              "      <th>tenure</th>\n",
              "      <th>phoneservice</th>\n",
              "      <th>multiplelines</th>\n",
              "      <th>internetservice</th>\n",
              "      <th>...</th>\n",
              "      <th>onlinebackup</th>\n",
              "      <th>deviceprotection</th>\n",
              "      <th>techsupport</th>\n",
              "      <th>streamingtv</th>\n",
              "      <th>streamingmovies</th>\n",
              "      <th>contract</th>\n",
              "      <th>paperlessbilling</th>\n",
              "      <th>paymentmethod</th>\n",
              "      <th>charges.monthly</th>\n",
              "      <th>charges.total</th>\n",
              "    </tr>\n",
              "  </thead>\n",
              "  <tbody>\n",
              "    <tr>\n",
              "      <th>0</th>\n",
              "      <td>0002-ORFBO</td>\n",
              "      <td>0</td>\n",
              "      <td>Femenino</td>\n",
              "      <td>0</td>\n",
              "      <td>1</td>\n",
              "      <td>1</td>\n",
              "      <td>9</td>\n",
              "      <td>1</td>\n",
              "      <td>0</td>\n",
              "      <td>DSL</td>\n",
              "      <td>...</td>\n",
              "      <td>1</td>\n",
              "      <td>0</td>\n",
              "      <td>1</td>\n",
              "      <td>1</td>\n",
              "      <td>0</td>\n",
              "      <td>Un Año</td>\n",
              "      <td>1</td>\n",
              "      <td>Cheque enviado por correo</td>\n",
              "      <td>65.6</td>\n",
              "      <td>593.3</td>\n",
              "    </tr>\n",
              "    <tr>\n",
              "      <th>1</th>\n",
              "      <td>0003-MKNFE</td>\n",
              "      <td>0</td>\n",
              "      <td>Masculino</td>\n",
              "      <td>0</td>\n",
              "      <td>0</td>\n",
              "      <td>0</td>\n",
              "      <td>9</td>\n",
              "      <td>1</td>\n",
              "      <td>1</td>\n",
              "      <td>DSL</td>\n",
              "      <td>...</td>\n",
              "      <td>0</td>\n",
              "      <td>0</td>\n",
              "      <td>0</td>\n",
              "      <td>0</td>\n",
              "      <td>1</td>\n",
              "      <td>Mes a Mes</td>\n",
              "      <td>0</td>\n",
              "      <td>Cheque enviado por correo</td>\n",
              "      <td>59.9</td>\n",
              "      <td>542.4</td>\n",
              "    </tr>\n",
              "    <tr>\n",
              "      <th>2</th>\n",
              "      <td>0004-TLHLJ</td>\n",
              "      <td>1</td>\n",
              "      <td>Masculino</td>\n",
              "      <td>0</td>\n",
              "      <td>0</td>\n",
              "      <td>0</td>\n",
              "      <td>4</td>\n",
              "      <td>1</td>\n",
              "      <td>0</td>\n",
              "      <td>Fibra Óptica</td>\n",
              "      <td>...</td>\n",
              "      <td>0</td>\n",
              "      <td>1</td>\n",
              "      <td>0</td>\n",
              "      <td>0</td>\n",
              "      <td>0</td>\n",
              "      <td>Mes a Mes</td>\n",
              "      <td>1</td>\n",
              "      <td>Cheque electrónico</td>\n",
              "      <td>73.9</td>\n",
              "      <td>280.85</td>\n",
              "    </tr>\n",
              "    <tr>\n",
              "      <th>3</th>\n",
              "      <td>0011-IGKFF</td>\n",
              "      <td>1</td>\n",
              "      <td>Masculino</td>\n",
              "      <td>1</td>\n",
              "      <td>1</td>\n",
              "      <td>0</td>\n",
              "      <td>13</td>\n",
              "      <td>1</td>\n",
              "      <td>0</td>\n",
              "      <td>Fibra Óptica</td>\n",
              "      <td>...</td>\n",
              "      <td>1</td>\n",
              "      <td>1</td>\n",
              "      <td>0</td>\n",
              "      <td>1</td>\n",
              "      <td>1</td>\n",
              "      <td>Mes a Mes</td>\n",
              "      <td>1</td>\n",
              "      <td>Cheque electrónico</td>\n",
              "      <td>98.0</td>\n",
              "      <td>1237.85</td>\n",
              "    </tr>\n",
              "    <tr>\n",
              "      <th>4</th>\n",
              "      <td>0013-EXCHZ</td>\n",
              "      <td>1</td>\n",
              "      <td>Femenino</td>\n",
              "      <td>1</td>\n",
              "      <td>1</td>\n",
              "      <td>0</td>\n",
              "      <td>3</td>\n",
              "      <td>1</td>\n",
              "      <td>0</td>\n",
              "      <td>Fibra Óptica</td>\n",
              "      <td>...</td>\n",
              "      <td>0</td>\n",
              "      <td>0</td>\n",
              "      <td>1</td>\n",
              "      <td>1</td>\n",
              "      <td>0</td>\n",
              "      <td>Mes a Mes</td>\n",
              "      <td>1</td>\n",
              "      <td>Cheque enviado por correo</td>\n",
              "      <td>83.9</td>\n",
              "      <td>267.4</td>\n",
              "    </tr>\n",
              "  </tbody>\n",
              "</table>\n",
              "<p>5 rows × 21 columns</p>\n",
              "</div>\n",
              "    <div class=\"colab-df-buttons\">\n",
              "\n",
              "  <div class=\"colab-df-container\">\n",
              "    <button class=\"colab-df-convert\" onclick=\"convertToInteractive('df-9f84dbab-2ad7-4ed1-8062-3287c333d0c6')\"\n",
              "            title=\"Convert this dataframe to an interactive table.\"\n",
              "            style=\"display:none;\">\n",
              "\n",
              "  <svg xmlns=\"http://www.w3.org/2000/svg\" height=\"24px\" viewBox=\"0 -960 960 960\">\n",
              "    <path d=\"M120-120v-720h720v720H120Zm60-500h600v-160H180v160Zm220 220h160v-160H400v160Zm0 220h160v-160H400v160ZM180-400h160v-160H180v160Zm440 0h160v-160H620v160ZM180-180h160v-160H180v160Zm440 0h160v-160H620v160Z\"/>\n",
              "  </svg>\n",
              "    </button>\n",
              "\n",
              "  <style>\n",
              "    .colab-df-container {\n",
              "      display:flex;\n",
              "      gap: 12px;\n",
              "    }\n",
              "\n",
              "    .colab-df-convert {\n",
              "      background-color: #E8F0FE;\n",
              "      border: none;\n",
              "      border-radius: 50%;\n",
              "      cursor: pointer;\n",
              "      display: none;\n",
              "      fill: #1967D2;\n",
              "      height: 32px;\n",
              "      padding: 0 0 0 0;\n",
              "      width: 32px;\n",
              "    }\n",
              "\n",
              "    .colab-df-convert:hover {\n",
              "      background-color: #E2EBFA;\n",
              "      box-shadow: 0px 1px 2px rgba(60, 64, 67, 0.3), 0px 1px 3px 1px rgba(60, 64, 67, 0.15);\n",
              "      fill: #174EA6;\n",
              "    }\n",
              "\n",
              "    .colab-df-buttons div {\n",
              "      margin-bottom: 4px;\n",
              "    }\n",
              "\n",
              "    [theme=dark] .colab-df-convert {\n",
              "      background-color: #3B4455;\n",
              "      fill: #D2E3FC;\n",
              "    }\n",
              "\n",
              "    [theme=dark] .colab-df-convert:hover {\n",
              "      background-color: #434B5C;\n",
              "      box-shadow: 0px 1px 3px 1px rgba(0, 0, 0, 0.15);\n",
              "      filter: drop-shadow(0px 1px 2px rgba(0, 0, 0, 0.3));\n",
              "      fill: #FFFFFF;\n",
              "    }\n",
              "  </style>\n",
              "\n",
              "    <script>\n",
              "      const buttonEl =\n",
              "        document.querySelector('#df-9f84dbab-2ad7-4ed1-8062-3287c333d0c6 button.colab-df-convert');\n",
              "      buttonEl.style.display =\n",
              "        google.colab.kernel.accessAllowed ? 'block' : 'none';\n",
              "\n",
              "      async function convertToInteractive(key) {\n",
              "        const element = document.querySelector('#df-9f84dbab-2ad7-4ed1-8062-3287c333d0c6');\n",
              "        const dataTable =\n",
              "          await google.colab.kernel.invokeFunction('convertToInteractive',\n",
              "                                                    [key], {});\n",
              "        if (!dataTable) return;\n",
              "\n",
              "        const docLinkHtml = 'Like what you see? Visit the ' +\n",
              "          '<a target=\"_blank\" href=https://colab.research.google.com/notebooks/data_table.ipynb>data table notebook</a>'\n",
              "          + ' to learn more about interactive tables.';\n",
              "        element.innerHTML = '';\n",
              "        dataTable['output_type'] = 'display_data';\n",
              "        await google.colab.output.renderOutput(dataTable, element);\n",
              "        const docLink = document.createElement('div');\n",
              "        docLink.innerHTML = docLinkHtml;\n",
              "        element.appendChild(docLink);\n",
              "      }\n",
              "    </script>\n",
              "  </div>\n",
              "\n",
              "\n",
              "    <div id=\"df-0614be1c-9429-446a-8a45-8fc8a2ace526\">\n",
              "      <button class=\"colab-df-quickchart\" onclick=\"quickchart('df-0614be1c-9429-446a-8a45-8fc8a2ace526')\"\n",
              "                title=\"Suggest charts\"\n",
              "                style=\"display:none;\">\n",
              "\n",
              "<svg xmlns=\"http://www.w3.org/2000/svg\" height=\"24px\"viewBox=\"0 0 24 24\"\n",
              "     width=\"24px\">\n",
              "    <g>\n",
              "        <path d=\"M19 3H5c-1.1 0-2 .9-2 2v14c0 1.1.9 2 2 2h14c1.1 0 2-.9 2-2V5c0-1.1-.9-2-2-2zM9 17H7v-7h2v7zm4 0h-2V7h2v10zm4 0h-2v-4h2v4z\"/>\n",
              "    </g>\n",
              "</svg>\n",
              "      </button>\n",
              "\n",
              "<style>\n",
              "  .colab-df-quickchart {\n",
              "      --bg-color: #E8F0FE;\n",
              "      --fill-color: #1967D2;\n",
              "      --hover-bg-color: #E2EBFA;\n",
              "      --hover-fill-color: #174EA6;\n",
              "      --disabled-fill-color: #AAA;\n",
              "      --disabled-bg-color: #DDD;\n",
              "  }\n",
              "\n",
              "  [theme=dark] .colab-df-quickchart {\n",
              "      --bg-color: #3B4455;\n",
              "      --fill-color: #D2E3FC;\n",
              "      --hover-bg-color: #434B5C;\n",
              "      --hover-fill-color: #FFFFFF;\n",
              "      --disabled-bg-color: #3B4455;\n",
              "      --disabled-fill-color: #666;\n",
              "  }\n",
              "\n",
              "  .colab-df-quickchart {\n",
              "    background-color: var(--bg-color);\n",
              "    border: none;\n",
              "    border-radius: 50%;\n",
              "    cursor: pointer;\n",
              "    display: none;\n",
              "    fill: var(--fill-color);\n",
              "    height: 32px;\n",
              "    padding: 0;\n",
              "    width: 32px;\n",
              "  }\n",
              "\n",
              "  .colab-df-quickchart:hover {\n",
              "    background-color: var(--hover-bg-color);\n",
              "    box-shadow: 0 1px 2px rgba(60, 64, 67, 0.3), 0 1px 3px 1px rgba(60, 64, 67, 0.15);\n",
              "    fill: var(--button-hover-fill-color);\n",
              "  }\n",
              "\n",
              "  .colab-df-quickchart-complete:disabled,\n",
              "  .colab-df-quickchart-complete:disabled:hover {\n",
              "    background-color: var(--disabled-bg-color);\n",
              "    fill: var(--disabled-fill-color);\n",
              "    box-shadow: none;\n",
              "  }\n",
              "\n",
              "  .colab-df-spinner {\n",
              "    border: 2px solid var(--fill-color);\n",
              "    border-color: transparent;\n",
              "    border-bottom-color: var(--fill-color);\n",
              "    animation:\n",
              "      spin 1s steps(1) infinite;\n",
              "  }\n",
              "\n",
              "  @keyframes spin {\n",
              "    0% {\n",
              "      border-color: transparent;\n",
              "      border-bottom-color: var(--fill-color);\n",
              "      border-left-color: var(--fill-color);\n",
              "    }\n",
              "    20% {\n",
              "      border-color: transparent;\n",
              "      border-left-color: var(--fill-color);\n",
              "      border-top-color: var(--fill-color);\n",
              "    }\n",
              "    30% {\n",
              "      border-color: transparent;\n",
              "      border-left-color: var(--fill-color);\n",
              "      border-top-color: var(--fill-color);\n",
              "      border-right-color: var(--fill-color);\n",
              "    }\n",
              "    40% {\n",
              "      border-color: transparent;\n",
              "      border-right-color: var(--fill-color);\n",
              "      border-top-color: var(--fill-color);\n",
              "    }\n",
              "    60% {\n",
              "      border-color: transparent;\n",
              "      border-right-color: var(--fill-color);\n",
              "    }\n",
              "    80% {\n",
              "      border-color: transparent;\n",
              "      border-right-color: var(--fill-color);\n",
              "      border-bottom-color: var(--fill-color);\n",
              "    }\n",
              "    90% {\n",
              "      border-color: transparent;\n",
              "      border-bottom-color: var(--fill-color);\n",
              "    }\n",
              "  }\n",
              "</style>\n",
              "\n",
              "      <script>\n",
              "        async function quickchart(key) {\n",
              "          const quickchartButtonEl =\n",
              "            document.querySelector('#' + key + ' button');\n",
              "          quickchartButtonEl.disabled = true;  // To prevent multiple clicks.\n",
              "          quickchartButtonEl.classList.add('colab-df-spinner');\n",
              "          try {\n",
              "            const charts = await google.colab.kernel.invokeFunction(\n",
              "                'suggestCharts', [key], {});\n",
              "          } catch (error) {\n",
              "            console.error('Error during call to suggestCharts:', error);\n",
              "          }\n",
              "          quickchartButtonEl.classList.remove('colab-df-spinner');\n",
              "          quickchartButtonEl.classList.add('colab-df-quickchart-complete');\n",
              "        }\n",
              "        (() => {\n",
              "          let quickchartButtonEl =\n",
              "            document.querySelector('#df-0614be1c-9429-446a-8a45-8fc8a2ace526 button');\n",
              "          quickchartButtonEl.style.display =\n",
              "            google.colab.kernel.accessAllowed ? 'block' : 'none';\n",
              "        })();\n",
              "      </script>\n",
              "    </div>\n",
              "\n",
              "    </div>\n",
              "  </div>\n"
            ],
            "application/vnd.google.colaboratory.intrinsic+json": {
              "type": "dataframe",
              "variable_name": "df"
            }
          },
          "metadata": {},
          "execution_count": 12
        }
      ]
    },
    {
      "cell_type": "code",
      "source": [
        "df.to_csv('Data_Tranformada.csv', index=False)"
      ],
      "metadata": {
        "id": "SzJX7TogPBcM"
      },
      "execution_count": 13,
      "outputs": []
    },
    {
      "cell_type": "markdown",
      "source": [
        "#### <strong><font color=\"2e2e2e\">Convertir columnas numéricas</font></strong>"
      ],
      "metadata": {
        "id": "cZEZYv5e3l2F"
      }
    },
    {
      "cell_type": "code",
      "source": [
        "df['charges.monthly'] = pd.to_numeric(df['charges.monthly'], errors='coerce')\n",
        "df['charges.total'] = pd.to_numeric(df['charges.total'], errors='coerce')"
      ],
      "metadata": {
        "id": "6rGPsLOknHFC"
      },
      "execution_count": 14,
      "outputs": []
    },
    {
      "cell_type": "markdown",
      "source": [
        "#### <strong><font color=\"2e2e2e\">Eliminar registros con valores nulos en charges.total</font></strong>"
      ],
      "metadata": {
        "id": "JlsB5tgn3vYQ"
      }
    },
    {
      "cell_type": "code",
      "source": [
        "nulos = df['charges.total'].isnull().sum()\n",
        "if nulos > 0:\n",
        "    print(f\"🧹 Se eliminaron {nulos} registros con 'charges.total' nulo.\")\n",
        "    df = df[df['charges.total'].notnull()]"
      ],
      "metadata": {
        "colab": {
          "base_uri": "https://localhost:8080/"
        },
        "id": "NXiFurqFvezV",
        "outputId": "7af7c21a-a97a-4e0b-ce51-04ba9be9ceec"
      },
      "execution_count": 15,
      "outputs": [
        {
          "output_type": "stream",
          "name": "stdout",
          "text": [
            "🧹 Se eliminaron 11 registros con 'charges.total' nulo.\n"
          ]
        }
      ]
    },
    {
      "cell_type": "markdown",
      "source": [
        "#### <strong><font color=\"2e2e2e\">Crear columna de gasto diario estimado</font></strong>"
      ],
      "metadata": {
        "id": "_M0tUSUi4vtL"
      }
    },
    {
      "cell_type": "code",
      "source": [
        "df['cuentas_diarias'] = df['charges.total'] / 30"
      ],
      "metadata": {
        "id": "wB1MeBuWnIPI"
      },
      "execution_count": 16,
      "outputs": []
    },
    {
      "cell_type": "markdown",
      "source": [
        "### <strong><font color=\"2e2e2e\">Verificar resultados</font></strong>"
      ],
      "metadata": {
        "id": "W4ZqSH2C44i8"
      }
    },
    {
      "cell_type": "code",
      "source": [
        "print(\"\\n📊 Verificación final:\")\n",
        "print(df.info())\n",
        "print(df.head())\n"
      ],
      "metadata": {
        "id": "0VPRX2lQWCZc",
        "colab": {
          "base_uri": "https://localhost:8080/"
        },
        "outputId": "0e130e17-23e4-48d3-9e9c-dcb45e916f04"
      },
      "execution_count": 17,
      "outputs": [
        {
          "output_type": "stream",
          "name": "stdout",
          "text": [
            "\n",
            "📊 Verificación final:\n",
            "<class 'pandas.core.frame.DataFrame'>\n",
            "Index: 7256 entries, 0 to 7266\n",
            "Data columns (total 22 columns):\n",
            " #   Column            Non-Null Count  Dtype  \n",
            "---  ------            --------------  -----  \n",
            " 0   customerid        7256 non-null   object \n",
            " 1   churn             7256 non-null   int64  \n",
            " 2   gender            7256 non-null   object \n",
            " 3   seniorcitizen     7256 non-null   int64  \n",
            " 4   partner           7256 non-null   int64  \n",
            " 5   dependents        7256 non-null   int64  \n",
            " 6   tenure            7256 non-null   int64  \n",
            " 7   phoneservice      7256 non-null   int64  \n",
            " 8   multiplelines     7256 non-null   int64  \n",
            " 9   internetservice   7256 non-null   object \n",
            " 10  onlinesecurity    7256 non-null   int64  \n",
            " 11  onlinebackup      7256 non-null   int64  \n",
            " 12  deviceprotection  7256 non-null   int64  \n",
            " 13  techsupport       7256 non-null   int64  \n",
            " 14  streamingtv       7256 non-null   int64  \n",
            " 15  streamingmovies   7256 non-null   int64  \n",
            " 16  contract          7256 non-null   object \n",
            " 17  paperlessbilling  7256 non-null   int64  \n",
            " 18  paymentmethod     7256 non-null   object \n",
            " 19  charges.monthly   7256 non-null   float64\n",
            " 20  charges.total     7256 non-null   float64\n",
            " 21  cuentas_diarias   7256 non-null   float64\n",
            "dtypes: float64(3), int64(14), object(5)\n",
            "memory usage: 1.3+ MB\n",
            "None\n",
            "   customerid  churn     gender  seniorcitizen  partner  dependents  tenure  \\\n",
            "0  0002-ORFBO      0   Femenino              0        1           1       9   \n",
            "1  0003-MKNFE      0  Masculino              0        0           0       9   \n",
            "2  0004-TLHLJ      1  Masculino              0        0           0       4   \n",
            "3  0011-IGKFF      1  Masculino              1        1           0      13   \n",
            "4  0013-EXCHZ      1   Femenino              1        1           0       3   \n",
            "\n",
            "   phoneservice  multiplelines internetservice  ...  deviceprotection  \\\n",
            "0             1              0             DSL  ...                 0   \n",
            "1             1              1             DSL  ...                 0   \n",
            "2             1              0    Fibra Óptica  ...                 1   \n",
            "3             1              0    Fibra Óptica  ...                 1   \n",
            "4             1              0    Fibra Óptica  ...                 0   \n",
            "\n",
            "   techsupport  streamingtv  streamingmovies   contract  paperlessbilling  \\\n",
            "0            1            1                0     Un Año                 1   \n",
            "1            0            0                1  Mes a Mes                 0   \n",
            "2            0            0                0  Mes a Mes                 1   \n",
            "3            0            1                1  Mes a Mes                 1   \n",
            "4            1            1                0  Mes a Mes                 1   \n",
            "\n",
            "               paymentmethod  charges.monthly charges.total  cuentas_diarias  \n",
            "0  Cheque enviado por correo             65.6        593.30        19.776667  \n",
            "1  Cheque enviado por correo             59.9        542.40        18.080000  \n",
            "2         Cheque electrónico             73.9        280.85         9.361667  \n",
            "3         Cheque electrónico             98.0       1237.85        41.261667  \n",
            "4  Cheque enviado por correo             83.9        267.40         8.913333  \n",
            "\n",
            "[5 rows x 22 columns]\n"
          ]
        }
      ]
    },
    {
      "cell_type": "markdown",
      "source": [
        "# <strong><font color=\"3f51b5\">📊 Carga y análisis</font></strong>"
      ],
      "metadata": {
        "id": "6XnTC2NTmMRL"
      }
    },
    {
      "cell_type": "markdown",
      "source": [
        "### <strong><font color=\"2e2e2e\">Estilo visual</font></strong>"
      ],
      "metadata": {
        "id": "SPE7-HOF7kDc"
      }
    },
    {
      "cell_type": "code",
      "source": [
        "plt.style.use('seaborn-v0_8-muted')\n",
        "sns.set_palette('muted')\n",
        "%matplotlib inline"
      ],
      "metadata": {
        "id": "KFQBnLYRsoba"
      },
      "execution_count": 18,
      "outputs": []
    },
    {
      "cell_type": "markdown",
      "source": [
        "### <strong><font color=\"2e2e2e\">Resumen estadístico de variables numéricas</font></strong>"
      ],
      "metadata": {
        "id": "Ub-7Cmjp7tqT"
      }
    },
    {
      "cell_type": "code",
      "source": [
        "print(\"🔍 Resumen estadístico de variables numéricas:\")\n",
        "display(df.describe())"
      ],
      "metadata": {
        "colab": {
          "base_uri": "https://localhost:8080/",
          "height": 337
        },
        "id": "Yizez_d3srL6",
        "outputId": "e6afc909-3518-49e3-cb9a-b363aa2f08a0"
      },
      "execution_count": 19,
      "outputs": [
        {
          "output_type": "stream",
          "name": "stdout",
          "text": [
            "🔍 Resumen estadístico de variables numéricas:\n"
          ]
        },
        {
          "output_type": "display_data",
          "data": {
            "text/plain": [
              "             churn  seniorcitizen      partner   dependents       tenure  \\\n",
              "count  7256.000000      7256.0000  7256.000000  7256.000000  7256.000000   \n",
              "mean      0.257580         0.1629     0.483600     0.299063    32.395535   \n",
              "std       0.437332         0.3693     0.499765     0.457879    24.558067   \n",
              "min       0.000000         0.0000     0.000000     0.000000     1.000000   \n",
              "25%       0.000000         0.0000     0.000000     0.000000     9.000000   \n",
              "50%       0.000000         0.0000     0.000000     0.000000    29.000000   \n",
              "75%       1.000000         0.0000     1.000000     1.000000    55.000000   \n",
              "max       1.000000         1.0000     1.000000     1.000000    72.000000   \n",
              "\n",
              "       phoneservice  multiplelines  onlinesecurity  onlinebackup  \\\n",
              "count   7256.000000    7256.000000     7256.000000   7256.000000   \n",
              "mean       0.902839       0.421858        0.285832      0.344542   \n",
              "std        0.296197       0.493890        0.451841      0.475252   \n",
              "min        0.000000       0.000000        0.000000      0.000000   \n",
              "25%        1.000000       0.000000        0.000000      0.000000   \n",
              "50%        1.000000       0.000000        0.000000      0.000000   \n",
              "75%        1.000000       1.000000        1.000000      1.000000   \n",
              "max        1.000000       1.000000        1.000000      1.000000   \n",
              "\n",
              "       deviceprotection  techsupport  streamingtv  streamingmovies  \\\n",
              "count       7256.000000  7256.000000  7256.000000      7256.000000   \n",
              "mean           0.342751     0.289416     0.383958         0.387955   \n",
              "std            0.474662     0.453522     0.486381         0.487318   \n",
              "min            0.000000     0.000000     0.000000         0.000000   \n",
              "25%            0.000000     0.000000     0.000000         0.000000   \n",
              "50%            0.000000     0.000000     0.000000         0.000000   \n",
              "75%            1.000000     1.000000     1.000000         1.000000   \n",
              "max            1.000000     1.000000     1.000000         1.000000   \n",
              "\n",
              "       paperlessbilling  charges.monthly  charges.total  cuentas_diarias  \n",
              "count       7256.000000      7256.000000    7256.000000      7256.000000  \n",
              "mean           0.593716        64.755423    2280.634213        76.021140  \n",
              "std            0.491173        30.125739    2268.632997        75.621100  \n",
              "min            0.000000        18.250000      18.800000         0.626667  \n",
              "25%            0.000000        35.450000     400.225000        13.340833  \n",
              "50%            1.000000        70.300000    1391.000000        46.366667  \n",
              "75%            1.000000        89.900000    3785.300000       126.176667  \n",
              "max            1.000000       118.750000    8684.800000       289.493333  "
            ],
            "text/html": [
              "\n",
              "  <div id=\"df-87cb83fb-6bd1-4ef7-8985-1767b8694c89\" class=\"colab-df-container\">\n",
              "    <div>\n",
              "<style scoped>\n",
              "    .dataframe tbody tr th:only-of-type {\n",
              "        vertical-align: middle;\n",
              "    }\n",
              "\n",
              "    .dataframe tbody tr th {\n",
              "        vertical-align: top;\n",
              "    }\n",
              "\n",
              "    .dataframe thead th {\n",
              "        text-align: right;\n",
              "    }\n",
              "</style>\n",
              "<table border=\"1\" class=\"dataframe\">\n",
              "  <thead>\n",
              "    <tr style=\"text-align: right;\">\n",
              "      <th></th>\n",
              "      <th>churn</th>\n",
              "      <th>seniorcitizen</th>\n",
              "      <th>partner</th>\n",
              "      <th>dependents</th>\n",
              "      <th>tenure</th>\n",
              "      <th>phoneservice</th>\n",
              "      <th>multiplelines</th>\n",
              "      <th>onlinesecurity</th>\n",
              "      <th>onlinebackup</th>\n",
              "      <th>deviceprotection</th>\n",
              "      <th>techsupport</th>\n",
              "      <th>streamingtv</th>\n",
              "      <th>streamingmovies</th>\n",
              "      <th>paperlessbilling</th>\n",
              "      <th>charges.monthly</th>\n",
              "      <th>charges.total</th>\n",
              "      <th>cuentas_diarias</th>\n",
              "    </tr>\n",
              "  </thead>\n",
              "  <tbody>\n",
              "    <tr>\n",
              "      <th>count</th>\n",
              "      <td>7256.000000</td>\n",
              "      <td>7256.0000</td>\n",
              "      <td>7256.000000</td>\n",
              "      <td>7256.000000</td>\n",
              "      <td>7256.000000</td>\n",
              "      <td>7256.000000</td>\n",
              "      <td>7256.000000</td>\n",
              "      <td>7256.000000</td>\n",
              "      <td>7256.000000</td>\n",
              "      <td>7256.000000</td>\n",
              "      <td>7256.000000</td>\n",
              "      <td>7256.000000</td>\n",
              "      <td>7256.000000</td>\n",
              "      <td>7256.000000</td>\n",
              "      <td>7256.000000</td>\n",
              "      <td>7256.000000</td>\n",
              "      <td>7256.000000</td>\n",
              "    </tr>\n",
              "    <tr>\n",
              "      <th>mean</th>\n",
              "      <td>0.257580</td>\n",
              "      <td>0.1629</td>\n",
              "      <td>0.483600</td>\n",
              "      <td>0.299063</td>\n",
              "      <td>32.395535</td>\n",
              "      <td>0.902839</td>\n",
              "      <td>0.421858</td>\n",
              "      <td>0.285832</td>\n",
              "      <td>0.344542</td>\n",
              "      <td>0.342751</td>\n",
              "      <td>0.289416</td>\n",
              "      <td>0.383958</td>\n",
              "      <td>0.387955</td>\n",
              "      <td>0.593716</td>\n",
              "      <td>64.755423</td>\n",
              "      <td>2280.634213</td>\n",
              "      <td>76.021140</td>\n",
              "    </tr>\n",
              "    <tr>\n",
              "      <th>std</th>\n",
              "      <td>0.437332</td>\n",
              "      <td>0.3693</td>\n",
              "      <td>0.499765</td>\n",
              "      <td>0.457879</td>\n",
              "      <td>24.558067</td>\n",
              "      <td>0.296197</td>\n",
              "      <td>0.493890</td>\n",
              "      <td>0.451841</td>\n",
              "      <td>0.475252</td>\n",
              "      <td>0.474662</td>\n",
              "      <td>0.453522</td>\n",
              "      <td>0.486381</td>\n",
              "      <td>0.487318</td>\n",
              "      <td>0.491173</td>\n",
              "      <td>30.125739</td>\n",
              "      <td>2268.632997</td>\n",
              "      <td>75.621100</td>\n",
              "    </tr>\n",
              "    <tr>\n",
              "      <th>min</th>\n",
              "      <td>0.000000</td>\n",
              "      <td>0.0000</td>\n",
              "      <td>0.000000</td>\n",
              "      <td>0.000000</td>\n",
              "      <td>1.000000</td>\n",
              "      <td>0.000000</td>\n",
              "      <td>0.000000</td>\n",
              "      <td>0.000000</td>\n",
              "      <td>0.000000</td>\n",
              "      <td>0.000000</td>\n",
              "      <td>0.000000</td>\n",
              "      <td>0.000000</td>\n",
              "      <td>0.000000</td>\n",
              "      <td>0.000000</td>\n",
              "      <td>18.250000</td>\n",
              "      <td>18.800000</td>\n",
              "      <td>0.626667</td>\n",
              "    </tr>\n",
              "    <tr>\n",
              "      <th>25%</th>\n",
              "      <td>0.000000</td>\n",
              "      <td>0.0000</td>\n",
              "      <td>0.000000</td>\n",
              "      <td>0.000000</td>\n",
              "      <td>9.000000</td>\n",
              "      <td>1.000000</td>\n",
              "      <td>0.000000</td>\n",
              "      <td>0.000000</td>\n",
              "      <td>0.000000</td>\n",
              "      <td>0.000000</td>\n",
              "      <td>0.000000</td>\n",
              "      <td>0.000000</td>\n",
              "      <td>0.000000</td>\n",
              "      <td>0.000000</td>\n",
              "      <td>35.450000</td>\n",
              "      <td>400.225000</td>\n",
              "      <td>13.340833</td>\n",
              "    </tr>\n",
              "    <tr>\n",
              "      <th>50%</th>\n",
              "      <td>0.000000</td>\n",
              "      <td>0.0000</td>\n",
              "      <td>0.000000</td>\n",
              "      <td>0.000000</td>\n",
              "      <td>29.000000</td>\n",
              "      <td>1.000000</td>\n",
              "      <td>0.000000</td>\n",
              "      <td>0.000000</td>\n",
              "      <td>0.000000</td>\n",
              "      <td>0.000000</td>\n",
              "      <td>0.000000</td>\n",
              "      <td>0.000000</td>\n",
              "      <td>0.000000</td>\n",
              "      <td>1.000000</td>\n",
              "      <td>70.300000</td>\n",
              "      <td>1391.000000</td>\n",
              "      <td>46.366667</td>\n",
              "    </tr>\n",
              "    <tr>\n",
              "      <th>75%</th>\n",
              "      <td>1.000000</td>\n",
              "      <td>0.0000</td>\n",
              "      <td>1.000000</td>\n",
              "      <td>1.000000</td>\n",
              "      <td>55.000000</td>\n",
              "      <td>1.000000</td>\n",
              "      <td>1.000000</td>\n",
              "      <td>1.000000</td>\n",
              "      <td>1.000000</td>\n",
              "      <td>1.000000</td>\n",
              "      <td>1.000000</td>\n",
              "      <td>1.000000</td>\n",
              "      <td>1.000000</td>\n",
              "      <td>1.000000</td>\n",
              "      <td>89.900000</td>\n",
              "      <td>3785.300000</td>\n",
              "      <td>126.176667</td>\n",
              "    </tr>\n",
              "    <tr>\n",
              "      <th>max</th>\n",
              "      <td>1.000000</td>\n",
              "      <td>1.0000</td>\n",
              "      <td>1.000000</td>\n",
              "      <td>1.000000</td>\n",
              "      <td>72.000000</td>\n",
              "      <td>1.000000</td>\n",
              "      <td>1.000000</td>\n",
              "      <td>1.000000</td>\n",
              "      <td>1.000000</td>\n",
              "      <td>1.000000</td>\n",
              "      <td>1.000000</td>\n",
              "      <td>1.000000</td>\n",
              "      <td>1.000000</td>\n",
              "      <td>1.000000</td>\n",
              "      <td>118.750000</td>\n",
              "      <td>8684.800000</td>\n",
              "      <td>289.493333</td>\n",
              "    </tr>\n",
              "  </tbody>\n",
              "</table>\n",
              "</div>\n",
              "    <div class=\"colab-df-buttons\">\n",
              "\n",
              "  <div class=\"colab-df-container\">\n",
              "    <button class=\"colab-df-convert\" onclick=\"convertToInteractive('df-87cb83fb-6bd1-4ef7-8985-1767b8694c89')\"\n",
              "            title=\"Convert this dataframe to an interactive table.\"\n",
              "            style=\"display:none;\">\n",
              "\n",
              "  <svg xmlns=\"http://www.w3.org/2000/svg\" height=\"24px\" viewBox=\"0 -960 960 960\">\n",
              "    <path d=\"M120-120v-720h720v720H120Zm60-500h600v-160H180v160Zm220 220h160v-160H400v160Zm0 220h160v-160H400v160ZM180-400h160v-160H180v160Zm440 0h160v-160H620v160ZM180-180h160v-160H180v160Zm440 0h160v-160H620v160Z\"/>\n",
              "  </svg>\n",
              "    </button>\n",
              "\n",
              "  <style>\n",
              "    .colab-df-container {\n",
              "      display:flex;\n",
              "      gap: 12px;\n",
              "    }\n",
              "\n",
              "    .colab-df-convert {\n",
              "      background-color: #E8F0FE;\n",
              "      border: none;\n",
              "      border-radius: 50%;\n",
              "      cursor: pointer;\n",
              "      display: none;\n",
              "      fill: #1967D2;\n",
              "      height: 32px;\n",
              "      padding: 0 0 0 0;\n",
              "      width: 32px;\n",
              "    }\n",
              "\n",
              "    .colab-df-convert:hover {\n",
              "      background-color: #E2EBFA;\n",
              "      box-shadow: 0px 1px 2px rgba(60, 64, 67, 0.3), 0px 1px 3px 1px rgba(60, 64, 67, 0.15);\n",
              "      fill: #174EA6;\n",
              "    }\n",
              "\n",
              "    .colab-df-buttons div {\n",
              "      margin-bottom: 4px;\n",
              "    }\n",
              "\n",
              "    [theme=dark] .colab-df-convert {\n",
              "      background-color: #3B4455;\n",
              "      fill: #D2E3FC;\n",
              "    }\n",
              "\n",
              "    [theme=dark] .colab-df-convert:hover {\n",
              "      background-color: #434B5C;\n",
              "      box-shadow: 0px 1px 3px 1px rgba(0, 0, 0, 0.15);\n",
              "      filter: drop-shadow(0px 1px 2px rgba(0, 0, 0, 0.3));\n",
              "      fill: #FFFFFF;\n",
              "    }\n",
              "  </style>\n",
              "\n",
              "    <script>\n",
              "      const buttonEl =\n",
              "        document.querySelector('#df-87cb83fb-6bd1-4ef7-8985-1767b8694c89 button.colab-df-convert');\n",
              "      buttonEl.style.display =\n",
              "        google.colab.kernel.accessAllowed ? 'block' : 'none';\n",
              "\n",
              "      async function convertToInteractive(key) {\n",
              "        const element = document.querySelector('#df-87cb83fb-6bd1-4ef7-8985-1767b8694c89');\n",
              "        const dataTable =\n",
              "          await google.colab.kernel.invokeFunction('convertToInteractive',\n",
              "                                                    [key], {});\n",
              "        if (!dataTable) return;\n",
              "\n",
              "        const docLinkHtml = 'Like what you see? Visit the ' +\n",
              "          '<a target=\"_blank\" href=https://colab.research.google.com/notebooks/data_table.ipynb>data table notebook</a>'\n",
              "          + ' to learn more about interactive tables.';\n",
              "        element.innerHTML = '';\n",
              "        dataTable['output_type'] = 'display_data';\n",
              "        await google.colab.output.renderOutput(dataTable, element);\n",
              "        const docLink = document.createElement('div');\n",
              "        docLink.innerHTML = docLinkHtml;\n",
              "        element.appendChild(docLink);\n",
              "      }\n",
              "    </script>\n",
              "  </div>\n",
              "\n",
              "\n",
              "    <div id=\"df-7f07b906-698d-4e17-8d0d-6ef1b85bf72a\">\n",
              "      <button class=\"colab-df-quickchart\" onclick=\"quickchart('df-7f07b906-698d-4e17-8d0d-6ef1b85bf72a')\"\n",
              "                title=\"Suggest charts\"\n",
              "                style=\"display:none;\">\n",
              "\n",
              "<svg xmlns=\"http://www.w3.org/2000/svg\" height=\"24px\"viewBox=\"0 0 24 24\"\n",
              "     width=\"24px\">\n",
              "    <g>\n",
              "        <path d=\"M19 3H5c-1.1 0-2 .9-2 2v14c0 1.1.9 2 2 2h14c1.1 0 2-.9 2-2V5c0-1.1-.9-2-2-2zM9 17H7v-7h2v7zm4 0h-2V7h2v10zm4 0h-2v-4h2v4z\"/>\n",
              "    </g>\n",
              "</svg>\n",
              "      </button>\n",
              "\n",
              "<style>\n",
              "  .colab-df-quickchart {\n",
              "      --bg-color: #E8F0FE;\n",
              "      --fill-color: #1967D2;\n",
              "      --hover-bg-color: #E2EBFA;\n",
              "      --hover-fill-color: #174EA6;\n",
              "      --disabled-fill-color: #AAA;\n",
              "      --disabled-bg-color: #DDD;\n",
              "  }\n",
              "\n",
              "  [theme=dark] .colab-df-quickchart {\n",
              "      --bg-color: #3B4455;\n",
              "      --fill-color: #D2E3FC;\n",
              "      --hover-bg-color: #434B5C;\n",
              "      --hover-fill-color: #FFFFFF;\n",
              "      --disabled-bg-color: #3B4455;\n",
              "      --disabled-fill-color: #666;\n",
              "  }\n",
              "\n",
              "  .colab-df-quickchart {\n",
              "    background-color: var(--bg-color);\n",
              "    border: none;\n",
              "    border-radius: 50%;\n",
              "    cursor: pointer;\n",
              "    display: none;\n",
              "    fill: var(--fill-color);\n",
              "    height: 32px;\n",
              "    padding: 0;\n",
              "    width: 32px;\n",
              "  }\n",
              "\n",
              "  .colab-df-quickchart:hover {\n",
              "    background-color: var(--hover-bg-color);\n",
              "    box-shadow: 0 1px 2px rgba(60, 64, 67, 0.3), 0 1px 3px 1px rgba(60, 64, 67, 0.15);\n",
              "    fill: var(--button-hover-fill-color);\n",
              "  }\n",
              "\n",
              "  .colab-df-quickchart-complete:disabled,\n",
              "  .colab-df-quickchart-complete:disabled:hover {\n",
              "    background-color: var(--disabled-bg-color);\n",
              "    fill: var(--disabled-fill-color);\n",
              "    box-shadow: none;\n",
              "  }\n",
              "\n",
              "  .colab-df-spinner {\n",
              "    border: 2px solid var(--fill-color);\n",
              "    border-color: transparent;\n",
              "    border-bottom-color: var(--fill-color);\n",
              "    animation:\n",
              "      spin 1s steps(1) infinite;\n",
              "  }\n",
              "\n",
              "  @keyframes spin {\n",
              "    0% {\n",
              "      border-color: transparent;\n",
              "      border-bottom-color: var(--fill-color);\n",
              "      border-left-color: var(--fill-color);\n",
              "    }\n",
              "    20% {\n",
              "      border-color: transparent;\n",
              "      border-left-color: var(--fill-color);\n",
              "      border-top-color: var(--fill-color);\n",
              "    }\n",
              "    30% {\n",
              "      border-color: transparent;\n",
              "      border-left-color: var(--fill-color);\n",
              "      border-top-color: var(--fill-color);\n",
              "      border-right-color: var(--fill-color);\n",
              "    }\n",
              "    40% {\n",
              "      border-color: transparent;\n",
              "      border-right-color: var(--fill-color);\n",
              "      border-top-color: var(--fill-color);\n",
              "    }\n",
              "    60% {\n",
              "      border-color: transparent;\n",
              "      border-right-color: var(--fill-color);\n",
              "    }\n",
              "    80% {\n",
              "      border-color: transparent;\n",
              "      border-right-color: var(--fill-color);\n",
              "      border-bottom-color: var(--fill-color);\n",
              "    }\n",
              "    90% {\n",
              "      border-color: transparent;\n",
              "      border-bottom-color: var(--fill-color);\n",
              "    }\n",
              "  }\n",
              "</style>\n",
              "\n",
              "      <script>\n",
              "        async function quickchart(key) {\n",
              "          const quickchartButtonEl =\n",
              "            document.querySelector('#' + key + ' button');\n",
              "          quickchartButtonEl.disabled = true;  // To prevent multiple clicks.\n",
              "          quickchartButtonEl.classList.add('colab-df-spinner');\n",
              "          try {\n",
              "            const charts = await google.colab.kernel.invokeFunction(\n",
              "                'suggestCharts', [key], {});\n",
              "          } catch (error) {\n",
              "            console.error('Error during call to suggestCharts:', error);\n",
              "          }\n",
              "          quickchartButtonEl.classList.remove('colab-df-spinner');\n",
              "          quickchartButtonEl.classList.add('colab-df-quickchart-complete');\n",
              "        }\n",
              "        (() => {\n",
              "          let quickchartButtonEl =\n",
              "            document.querySelector('#df-7f07b906-698d-4e17-8d0d-6ef1b85bf72a button');\n",
              "          quickchartButtonEl.style.display =\n",
              "            google.colab.kernel.accessAllowed ? 'block' : 'none';\n",
              "        })();\n",
              "      </script>\n",
              "    </div>\n",
              "\n",
              "    </div>\n",
              "  </div>\n"
            ],
            "application/vnd.google.colaboratory.intrinsic+json": {
              "type": "dataframe",
              "summary": "{\n  \"name\": \"display(df\",\n  \"rows\": 8,\n  \"fields\": [\n    {\n      \"column\": \"churn\",\n      \"properties\": {\n        \"dtype\": \"number\",\n        \"std\": 2565.2473225343047,\n        \"min\": 0.0,\n        \"max\": 7256.0,\n        \"num_unique_values\": 5,\n        \"samples\": [\n          0.25757993384785005,\n          1.0,\n          0.43733153356065524\n        ],\n        \"semantic_type\": \"\",\n        \"description\": \"\"\n      }\n    },\n    {\n      \"column\": \"seniorcitizen\",\n      \"properties\": {\n        \"dtype\": \"number\",\n        \"std\": 2565.3060374395823,\n        \"min\": 0.0,\n        \"max\": 7256.0,\n        \"num_unique_values\": 5,\n        \"samples\": [\n          0.16289966923925028,\n          1.0,\n          0.36929955697056066\n        ],\n        \"semantic_type\": \"\",\n        \"description\": \"\"\n      }\n    },\n    {\n      \"column\": \"partner\",\n      \"properties\": {\n        \"dtype\": \"number\",\n        \"std\": 2565.232753200289,\n        \"min\": 0.0,\n        \"max\": 7256.0,\n        \"num_unique_values\": 5,\n        \"samples\": [\n          0.4835997794928335,\n          1.0,\n          0.499765399650396\n        ],\n        \"semantic_type\": \"\",\n        \"description\": \"\"\n      }\n    },\n    {\n      \"column\": \"dependents\",\n      \"properties\": {\n        \"dtype\": \"number\",\n        \"std\": 2565.2441893385085,\n        \"min\": 0.0,\n        \"max\": 7256.0,\n        \"num_unique_values\": 5,\n        \"samples\": [\n          0.29906284454244764,\n          1.0,\n          0.45787897235062325\n        ],\n        \"semantic_type\": \"\",\n        \"description\": \"\"\n      }\n    },\n    {\n      \"column\": \"tenure\",\n      \"properties\": {\n        \"dtype\": \"number\",\n        \"std\": 2554.225552095387,\n        \"min\": 1.0,\n        \"max\": 7256.0,\n        \"num_unique_values\": 8,\n        \"samples\": [\n          32.39553472987872,\n          29.0,\n          7256.0\n        ],\n        \"semantic_type\": \"\",\n        \"description\": \"\"\n      }\n    },\n    {\n      \"column\": \"phoneservice\",\n      \"properties\": {\n        \"dtype\": \"number\",\n        \"std\": 2565.120840158379,\n        \"min\": 0.0,\n        \"max\": 7256.0,\n        \"num_unique_values\": 5,\n        \"samples\": [\n          0.9028390297684675,\n          1.0,\n          0.2961972436833943\n        ],\n        \"semantic_type\": \"\",\n        \"description\": \"\"\n      }\n    },\n    {\n      \"column\": \"multiplelines\",\n      \"properties\": {\n        \"dtype\": \"number\",\n        \"std\": 2565.236168258497,\n        \"min\": 0.0,\n        \"max\": 7256.0,\n        \"num_unique_values\": 5,\n        \"samples\": [\n          0.4218577728776185,\n          1.0,\n          0.4938900785387863\n        ],\n        \"semantic_type\": \"\",\n        \"description\": \"\"\n      }\n    },\n    {\n      \"column\": \"onlinesecurity\",\n      \"properties\": {\n        \"dtype\": \"number\",\n        \"std\": 2565.24516258731,\n        \"min\": 0.0,\n        \"max\": 7256.0,\n        \"num_unique_values\": 5,\n        \"samples\": [\n          0.28583241455347297,\n          1.0,\n          0.45184110272429556\n        ],\n        \"semantic_type\": \"\",\n        \"description\": \"\"\n      }\n    },\n    {\n      \"column\": \"onlinebackup\",\n      \"properties\": {\n        \"dtype\": \"number\",\n        \"std\": 2565.241014693991,\n        \"min\": 0.0,\n        \"max\": 7256.0,\n        \"num_unique_values\": 5,\n        \"samples\": [\n          0.34454244762954794,\n          1.0,\n          0.4752515937014717\n        ],\n        \"semantic_type\": \"\",\n        \"description\": \"\"\n      }\n    },\n    {\n      \"column\": \"deviceprotection\",\n      \"properties\": {\n        \"dtype\": \"number\",\n        \"std\": 2565.241134981145,\n        \"min\": 0.0,\n        \"max\": 7256.0,\n        \"num_unique_values\": 5,\n        \"samples\": [\n          0.3427508269018743,\n          1.0,\n          0.47466171979830984\n        ],\n        \"semantic_type\": \"\",\n        \"description\": \"\"\n      }\n    },\n    {\n      \"column\": \"techsupport\",\n      \"properties\": {\n        \"dtype\": \"number\",\n        \"std\": 2565.2448966722213,\n        \"min\": 0.0,\n        \"max\": 7256.0,\n        \"num_unique_values\": 5,\n        \"samples\": [\n          0.2894156560088203,\n          1.0,\n          0.4535224146806044\n        ],\n        \"semantic_type\": \"\",\n        \"description\": \"\"\n      }\n    },\n    {\n      \"column\": \"streamingtv\",\n      \"properties\": {\n        \"dtype\": \"number\",\n        \"std\": 2565.238461715377,\n        \"min\": 0.0,\n        \"max\": 7256.0,\n        \"num_unique_values\": 5,\n        \"samples\": [\n          0.38395810363836824,\n          1.0,\n          0.48638141537450874\n        ],\n        \"semantic_type\": \"\",\n        \"description\": \"\"\n      }\n    },\n    {\n      \"column\": \"streamingmovies\",\n      \"properties\": {\n        \"dtype\": \"number\",\n        \"std\": 2565.2382125578456,\n        \"min\": 0.0,\n        \"max\": 7256.0,\n        \"num_unique_values\": 5,\n        \"samples\": [\n          0.387954796030871,\n          1.0,\n          0.48731776168209257\n        ],\n        \"semantic_type\": \"\",\n        \"description\": \"\"\n      }\n    },\n    {\n      \"column\": \"paperlessbilling\",\n      \"properties\": {\n        \"dtype\": \"number\",\n        \"std\": 2565.177117823535,\n        \"min\": 0.0,\n        \"max\": 7256.0,\n        \"num_unique_values\": 5,\n        \"samples\": [\n          0.593715545755237,\n          1.0,\n          0.4911727241194274\n        ],\n        \"semantic_type\": \"\",\n        \"description\": \"\"\n      }\n    },\n    {\n      \"column\": \"charges.monthly\",\n      \"properties\": {\n        \"dtype\": \"number\",\n        \"std\": 2544.0061450526873,\n        \"min\": 18.25,\n        \"max\": 7256.0,\n        \"num_unique_values\": 8,\n        \"samples\": [\n          64.75542309812569,\n          70.3,\n          7256.0\n        ],\n        \"semantic_type\": \"\",\n        \"description\": \"\"\n      }\n    },\n    {\n      \"column\": \"charges.total\",\n      \"properties\": {\n        \"dtype\": \"number\",\n        \"std\": 3157.558389134042,\n        \"min\": 18.8,\n        \"max\": 8684.8,\n        \"num_unique_values\": 8,\n        \"samples\": [\n          2280.6342130650496,\n          1391.0,\n          7256.0\n        ],\n        \"semantic_type\": \"\",\n        \"description\": \"\"\n      }\n    },\n    {\n      \"column\": \"cuentas_diarias\",\n      \"properties\": {\n        \"dtype\": \"number\",\n        \"std\": 2535.2966538256383,\n        \"min\": 0.6266666666666667,\n        \"max\": 7256.0,\n        \"num_unique_values\": 8,\n        \"samples\": [\n          76.02114043550165,\n          46.36666666666667,\n          7256.0\n        ],\n        \"semantic_type\": \"\",\n        \"description\": \"\"\n      }\n    }\n  ]\n}"
            }
          },
          "metadata": {}
        }
      ]
    },
    {
      "cell_type": "markdown",
      "source": [
        "### <strong><font color=\"2e2e2e\">Distribución de churn</font></strong>"
      ],
      "metadata": {
        "id": "CcdJOD5M7_VH"
      }
    },
    {
      "cell_type": "code",
      "source": [
        "plt.figure(figsize=(6, 4))\n",
        "ax = sns.countplot(data=df, x='churn', palette='Blues')\n",
        "\n",
        "# Agregar porcentajes\n",
        "total = len(df)\n",
        "for p in ax.patches:\n",
        "    percentage = f'{100 * p.get_height() / total:.1f}%'\n",
        "    ax.annotate(percentage, (p.get_x() + p.get_width() / 2., p.get_height()),\n",
        "                ha='center', va='bottom', fontsize=10, color='black')\n",
        "\n",
        "# Quitar bordes\n",
        "for spine in ['top', 'right', 'left']:\n",
        "    ax.spines[spine].set_visible(False)\n",
        "\n",
        "# Opcionales: ajustar estilo\n",
        "ax.spines['bottom'].set_color('#ccc')\n",
        "ax.spines['bottom'].set_linewidth(0.5)\n",
        "ax.grid(axis='y', linestyle='--', linewidth=0.3, color='gray', alpha=0.5)\n",
        "\n",
        "plt.title('Distribución de evasión')\n",
        "plt.xticks([0, 1], ['No', 'Sí'])\n",
        "plt.xlabel('Cliente Abandonó')\n",
        "plt.ylabel('')\n",
        "plt.tight_layout()\n",
        "plt.show()\n"
      ],
      "metadata": {
        "colab": {
          "base_uri": "https://localhost:8080/",
          "height": 407
        },
        "id": "z-KquFAftApI",
        "outputId": "a2429c55-4df8-443b-b20a-01e0a701714e"
      },
      "execution_count": 20,
      "outputs": [
        {
          "output_type": "display_data",
          "data": {
            "text/plain": [
              "<Figure size 600x400 with 1 Axes>"
            ],
            "image/png": "[encoded data removed]"
          },
          "metadata": {}
        }
      ]
    },
    {
      "cell_type": "markdown",
      "source": [
        "### <strong><font color=\"2e2e2e\">Recuento de evasión por variables categóricas</font></strong>"
      ],
      "metadata": {
        "id": "T7Ii2PPK8STw"
      }
    },
    {
      "cell_type": "code",
      "source": [
        "def graficar_churn_categoricas(df):\n",
        "    # Títulos descriptivos\n",
        "    categorias = {\n",
        "        'contract': 'Evasión según tipo de contrato',\n",
        "        'paymentmethod': 'Evasión según método de pago',\n",
        "        'internetservice': 'Evasión según tipo de servicio de Internet',\n",
        "        'phoneservice': 'Evasión según servicio telefónico',\n",
        "        'dependents': 'Evasión según presencia de dependientes'\n",
        "    }\n",
        "\n",
        "    # Etiquetas para ejes\n",
        "    etiquetas = {\n",
        "        'contract': 'Tipo de contrato',\n",
        "        'paymentmethod': 'Método de pago',\n",
        "        'internetservice': 'Tipo de Internet',\n",
        "        'phoneservice': 'Tiene servicio telefónico',\n",
        "        'dependents': 'Tiene personas a su cargo'\n",
        "    }\n",
        "\n",
        "    # Orden ya en español, según transformaciones previas\n",
        "    ordenes_personalizados = {\n",
        "        'contract': ['Mes a Mes', 'Un Año', 'Dos Años'],\n",
        "        'paymentmethod': [\n",
        "            'Cheque enviado por correo',\n",
        "            'Cheque electrónico',\n",
        "            'Tarjeta de crédito',\n",
        "            'Transferencia bancaria'\n",
        "        ],\n",
        "        'internetservice': ['Ninguno', 'DSL', 'Fibra Óptica'],\n",
        "        'phoneservice': [0, 1],\n",
        "        'dependents': [0, 1]\n",
        "    }\n",
        "\n",
        "    rotaciones = {\n",
        "        'paymentmethod': 30,\n",
        "        'contract': 0,\n",
        "        'internetservice': 0,\n",
        "        'phoneservice': 0,\n",
        "        'dependents': 0\n",
        "    }\n",
        "\n",
        "    tamanos = {\n",
        "        'paymentmethod': (10, 4),\n",
        "        'phoneservice': (6, 4),\n",
        "        'dependents': (6, 4)\n",
        "    }\n",
        "\n",
        "    y_max = 5000\n",
        "    y_step = 1000\n",
        "\n",
        "    for col, titulo in categorias.items():\n",
        "        plt.figure(figsize=tamanos.get(col, (8, 4)))\n",
        "        orden = ordenes_personalizados.get(col)\n",
        "        ax = sns.countplot(data=df, x=col, hue='churn', order=orden, palette='pastel')\n",
        "\n",
        "        for spine in ['top', 'right']:\n",
        "            ax.spines[spine].set_visible(False)\n",
        "\n",
        "        plt.title(titulo, pad=20)  # Puedes ajustar 20 a lo que visualmente convenga\n",
        "        plt.xlabel(etiquetas[col])\n",
        "        plt.ylabel('Cantidad de clientes')\n",
        "        plt.ylim(0, y_max)\n",
        "        plt.yticks(np.arange(0, y_max + 1, y_step))\n",
        "        plt.legend(\n",
        "            title='¿Cliente se dio de baja?',\n",
        "            labels=['No', 'Sí'],\n",
        "            loc='upper left',\n",
        "                bbox_to_anchor=(1.01, 1),\n",
        "            borderaxespad=0\n",
        "            )\n",
        "\n",
        "        if col in ['phoneservice', 'dependents']:\n",
        "            ax.set_xticklabels(['No', 'Sí'])\n",
        "\n",
        "        plt.xticks(rotation=rotaciones[col])\n",
        "        plt.tight_layout()\n",
        "\n",
        "        plt.show()\n",
        "        display(HTML(\"<hr style='border-top: 1px solid #bbb; margin: 30px 0;'>\"))\n"
      ],
      "metadata": {
        "id": "vt-xTqMiLo4O"
      },
      "execution_count": 21,
      "outputs": []
    },
    {
      "cell_type": "code",
      "source": [
        "graficar_churn_categoricas(df)"
      ],
      "metadata": {
        "colab": {
          "base_uri": "https://localhost:8080/",
          "height": 1000
        },
        "id": "mB1sdOj-P-2q",
        "outputId": "d1ac9a32-3d9f-4ca7-fa04-5600cba9ba9d"
      },
      "execution_count": 22,
      "outputs": [
        {
          "output_type": "display_data",
          "data": {
            "text/plain": [
              "<Figure size 800x400 with 1 Axes>"
            ],
            "image/png": "[encoded data removed]"
          },
          "metadata": {}
        },
        {
          "output_type": "display_data",
          "data": {
            "text/plain": [
              "<IPython.core.display.HTML object>"
            ],
            "text/html": [
              "<hr style='border-top: 1px solid #bbb; margin: 30px 0;'>"
            ]
          },
          "metadata": {}
        },
        {
          "output_type": "display_data",
          "data": {
            "text/plain": [
              "<Figure size 1000x400 with 1 Axes>"
            ],
            "image/png": "[encoded data removed]"
          },
          "metadata": {}
        },
        {
          "output_type": "display_data",
          "data": {
            "text/plain": [
              "<IPython.core.display.HTML object>"
            ],
            "text/html": [
              "<hr style='border-top: 1px solid #bbb; margin: 30px 0;'>"
            ]
          },
          "metadata": {}
        },
        {
          "output_type": "display_data",
          "data": {
            "text/plain": [
              "<Figure size 800x400 with 1 Axes>"
            ],
            "image/png": "[encoded data removed]"
          },
          "metadata": {}
        },
        {
          "output_type": "display_data",
          "data": {
            "text/plain": [
              "<IPython.core.display.HTML object>"
            ],
            "text/html": [
              "<hr style='border-top: 1px solid #bbb; margin: 30px 0;'>"
            ]
          },
          "metadata": {}
        },
        {
          "output_type": "display_data",
          "data": {
            "text/plain": [
              "<Figure size 600x400 with 1 Axes>"
            ],
            "image/png": "[encoded data removed]"
          },
          "metadata": {}
        },
        {
          "output_type": "display_data",
          "data": {
            "text/plain": [
              "<IPython.core.display.HTML object>"
            ],
            "text/html": [
              "<hr style='border-top: 1px solid #bbb; margin: 30px 0;'>"
            ]
          },
          "metadata": {}
        },
        {
          "output_type": "display_data",
          "data": {
            "text/plain": [
              "<Figure size 600x400 with 1 Axes>"
            ],
            "image/png": "[encoded data removed]"
          },
          "metadata": {}
        },
        {
          "output_type": "display_data",
          "data": {
            "text/plain": [
              "<IPython.core.display.HTML object>"
            ],
            "text/html": [
              "<hr style='border-top: 1px solid #bbb; margin: 30px 0;'>"
            ]
          },
          "metadata": {}
        }
      ]
    },
    {
      "cell_type": "markdown",
      "source": [
        "###**Conteo de evasión por variables numéricas**"
      ],
      "metadata": {
        "id": "3RhPM-_vqvhS"
      }
    },
    {
      "cell_type": "code",
      "source": [
        "nombres_legibles = {\n",
        "    'tenure': 'Antigüedad del Cliente (meses)',\n",
        "    'charges.monthly': 'Cargo Mensual',\n",
        "    'charges.total': 'Cargo Total Acumulado',\n",
        "    'cuentas_diarias': 'Gasto Diario Aproximado'\n",
        "}\n",
        "\n",
        "for var in variables_numericas:\n",
        "    plt.figure(figsize=(10, 5))\n",
        "    sns.boxplot(x='churn', y=var, data=df, showfliers=False, palette='pastel')  # Sin outliers\n",
        "    plt.title(\n",
        "        f\"Distribución de {nombres_legibles[var]} según Estado de Evasión\",\n",
        "        fontsize=14,\n",
        "        fontweight='bold',\n",
        "        pad=20  #  Espaciado entre título y gráfico\n",
        "    )\n",
        "    plt.xlabel(\"Estado de cancelación del cliente\", fontsize=12)\n",
        "    plt.ylabel(nombres_legibles[var], fontsize=12)\n",
        "    plt.xticks([0, 1], ['No', 'Sí'])\n",
        "    plt.grid(True, linestyle='--', alpha=0.5)\n",
        "    plt.tight_layout()\n",
        "    plt.show()\n",
        "\n",
        "    display(HTML(\"<hr style='border-top: 1px solid #bbb; margin: 30px 0;'>\"))\n"
      ],
      "metadata": {
        "colab": {
          "base_uri": "https://localhost:8080/",
          "height": 1000
        },
        "id": "qdzd6Whiq4QK",
        "outputId": "d7b2629b-222e-4198-c9cb-8b357aae37f0"
      },
      "execution_count": 34,
      "outputs": [
        {
          "output_type": "display_data",
          "data": {
            "text/plain": [
              "<Figure size 1000x500 with 1 Axes>"
            ],
            "image/png": "[encoded data removed]"
          },
          "metadata": {}
        },
        {
          "output_type": "display_data",
          "data": {
            "text/plain": [
              "<IPython.core.display.HTML object>"
            ],
            "text/html": [
              "<hr style='border-top: 1px solid #bbb; margin: 30px 0;'>"
            ]
          },
          "metadata": {}
        },
        {
          "output_type": "display_data",
          "data": {
            "text/plain": [
              "<Figure size 1000x500 with 1 Axes>"
            ],
            "image/png": "[encoded data removed]"
          },
          "metadata": {}
        },
        {
          "output_type": "display_data",
          "data": {
            "text/plain": [
              "<IPython.core.display.HTML object>"
            ],
            "text/html": [
              "<hr style='border-top: 1px solid #bbb; margin: 30px 0;'>"
            ]
          },
          "metadata": {}
        },
        {
          "output_type": "display_data",
          "data": {
            "text/plain": [
              "<Figure size 1000x500 with 1 Axes>"
            ],
            "image/png": "[encoded data removed]"
          },
          "metadata": {}
        },
        {
          "output_type": "display_data",
          "data": {
            "text/plain": [
              "<IPython.core.display.HTML object>"
            ],
            "text/html": [
              "<hr style='border-top: 1px solid #bbb; margin: 30px 0;'>"
            ]
          },
          "metadata": {}
        },
        {
          "output_type": "display_data",
          "data": {
            "text/plain": [
              "<Figure size 1000x500 with 1 Axes>"
            ],
            "image/png": "[encoded data removed]"
          },
          "metadata": {}
        },
        {
          "output_type": "display_data",
          "data": {
            "text/plain": [
              "<IPython.core.display.HTML object>"
            ],
            "text/html": [
              "<hr style='border-top: 1px solid #bbb; margin: 30px 0;'>"
            ]
          },
          "metadata": {}
        }
      ]
    },
    {
      "cell_type": "markdown",
      "source": [
        "# <strong><font color=\"3f51b5\">📌 Informe final</font></strong>"
      ],
      "metadata": {
        "id": "v-WzfSvTmaw9"
      }
    },
    {
      "cell_type": "markdown",
      "source": [
        "El presente informe corresponde al desarrollo del desafío **Telecom X - Evasión de Clientes**, cuyo objetivo fue analizar el comportamiento de los usuarios de una empresa de telecomunicaciones para identificar patrones relacionados con la **cancelación de servicios (Churn)**.\n",
        "\n",
        "La empresa enfrenta un alto índice de deserción y necesita comprender qué factores están más asociados a esta pérdida de clientes para implementar acciones de retención más efectivas.\n",
        "\n",
        "---\n",
        "\n",
        "## 🔹 Limpieza y Tratamiento de Datos\n",
        "\n",
        "Durante el proceso de limpieza se realizaron los siguientes pasos:\n",
        "\n",
        "- Extracción de los datos desde una API (formato JSON).\n",
        "- Normalización de columnas anidadas (`customer`, `internet`, `phone`, `account`).\n",
        "- Conversión de valores categóricos binarios (`Yes/No`, `No internet service`, etc.) a formato numérico (`1/0`).\n",
        "- Traducción de variables clave a español para facilitar la interpretación.\n",
        "- Unificación de valores nulos o inconsistentes.\n",
        "- Verificación de duplicados y control de registros faltantes.\n",
        "\n",
        "---\n",
        "\n",
        "## 🔹 Análisis Exploratorio de Datos (EDA)\n",
        "\n",
        "Se realizó un análisis detallado mediante visualizaciones para detectar posibles causas de evasión:\n",
        "\n",
        "- Distribución general del Churn\n",
        "- Análisis por tipo de contrato, método de pago, tipo de internet\n",
        "- Asociación entre presencia de dependientes, servicios telefónicos y la evasión\n",
        "\n",
        "Estas visualizaciones se encuentran documentadas en secciones anteriores del notebook, respaldadas por gráficos de barras comparativos.\n",
        "\n",
        "---\n",
        "\n",
        "## 🔹 Conclusiones e Insights\n",
        "\n",
        "- La **evasión es significativamente más alta** en contratos **\"Mes a Mes\"**.\n",
        "- Clientes que **utilizan cheque electrónico** como medio de pago tienen mayor tendencia a cancelar.\n",
        "- Usuarios con **Fibra Óptica** muestran mayor índice de deserción que los de DSL o sin Internet.\n",
        "- Aquellos **sin dependientes** o **sin servicio telefónico** presentan tasas más elevadas de cancelación.\n",
        "\n",
        "Estos patrones son consistentes con perfiles de clientes menos comprometidos o con menor integración de servicios.\n",
        "\n",
        "---\n",
        "\n",
        "## 🔹 Recomendaciones\n",
        "\n",
        "1. **Fomentar contratos anuales o bianuales**, ofreciendo descuentos o beneficios exclusivos.\n",
        "2. **Promover el uso de medios de pago automáticos**, como tarjeta de crédito o débito automático.\n",
        "3. **Monitorear clientes con servicios de Fibra Óptica**, evaluando su satisfacción con la calidad del servicio.\n",
        "4. **Ofrecer bundles (paquetes combinados)** que incluyan internet, TV y teléfono para aumentar la fidelización.\n",
        "5. **Campañas específicas para clientes sin dependientes o con bajo nivel de servicios contratados**.\n",
        "\n",
        "---\n",
        "\n",
        "Este análisis puede servir como base para una futura **implementación de modelos predictivos de Churn**, permitiendo identificar clientes en riesgo y tomar acciones preventivas con anticipación."
      ],
      "metadata": {
        "id": "MZncPUd9IcKo"
      }
    }
  ]
}